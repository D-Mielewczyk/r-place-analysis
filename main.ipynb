{
 "cells": [
  {
   "cell_type": "code",
   "execution_count": null,
   "metadata": {
    "collapsed": false,
    "pycharm": {
     "name": "#%%\n"
    }
   },
   "outputs": [],
   "source": [
    "import pandas as pd\n",
    "import numpy as np\n",
    "import datetime\n",
    "\n",
    "import dask\n",
    "import dask.dataframe as dd\n",
    "\n",
    "dfs = []\n",
    "# Data is split into 79 files, modify the range if you don't want to use all files.\n",
    "for i in range(0, 9):\n",
    "    if i < 10:\n",
    "        i = f\"0{i}\"\n",
    "    df = dd.read_csv(f\"data/2022_place_canvas_history-0000000000{i}.csv.gzip\",\n",
    "                                    compression=\"gzip\", blocksize=None)#, parse_dates = [\"timestamp\"])\n",
    "    dfs.append(df)\n",
    "df = dd.concat(dfs)\n",
    "df.head()"
   ]
  },
  {
   "cell_type": "markdown",
   "metadata": {
    "pycharm": {
     "name": "#%% md\n"
    }
   },
   "source": [
    "Pandas have a built-in data parser but in my experience, it is super slow (in this example it was about 7 times slower)."
   ]
  },
  {
   "cell_type": "code",
   "execution_count": null,
   "metadata": {
    "pycharm": {
     "name": "#%%\n"
    }
   },
   "outputs": [],
   "source": [
    "del dfs"
   ]
  },
  {
   "cell_type": "code",
   "execution_count": null,
   "metadata": {
    "pycharm": {
     "name": "#%%\n"
    }
   },
   "outputs": [],
   "source": [
    "def parse_date(date):\n",
    "    try:\n",
    "        return datetime.datetime.strptime(date.strip(\" UTC\"), '%Y-%m-%d %H:%M:%S.%f')\n",
    "    except ValueError:\n",
    "        return datetime.datetime.strptime(date.strip(\" UTC\"), '%Y-%m-%d %H:%M:%S')\n",
    "\n",
    "df['timestamp'] = df['timestamp'].map(lambda x: parse_date(x), meta = ('timestamp', 'datetime64[ns]'))"
   ]
  },
  {
   "cell_type": "markdown",
   "metadata": {
    "pycharm": {
     "name": "#%% md\n"
    }
   },
   "source": [
    "Those cells are split to easily see the **runtime** of the **data parser**."
   ]
  },
  {
   "cell_type": "code",
   "execution_count": null,
   "metadata": {
    "pycharm": {
     "name": "#%%\n"
    }
   },
   "outputs": [],
   "source": [
    "df['user_id'] = df['user_id'].astype('string')\n",
    "df['pixel_color'] = df['pixel_color'].astype('string')\n",
    "\n",
    "def parse_cord(cord):\n",
    "    try:\n",
    "        return float(cord.replace(\",\", \".\"))\n",
    "    except ValueError:\n",
    "        # Mods sometimes used the rectangle tool to censor NSFW, in those cases cords look like this (x1,y1,x2,y2).\n",
    "        # With the code below we can get a tuple with opposite rectangle corners, but I didn't need that data.\n",
    "        ###\n",
    "        # cords = cord.split('.')\n",
    "        # return (float(cord[0]+'.'+cord[1]), float(cord[2]+'.'+cord[3]))\n",
    "        ###\n",
    "        return np.NaN\n",
    "\n",
    "\n",
    "df[\"coordinate\"] = df[\"coordinate\"].map(lambda x: parse_cord(x), meta = (\"coordinate\", float))\n",
    "df.dropna(how=\"any\")\n",
    "\n",
    "df.dtypes"
   ]
  },
  {
   "cell_type": "markdown",
   "metadata": {
    "pycharm": {
     "name": "#%% md\n"
    }
   },
   "source": [
    "### Prepare matplotlib\n",
    "Each analysis will be split into three parts:\n",
    "1. Description\n",
    "2. Data editing\n",
    "3. Ploting"
   ]
  },
  {
   "cell_type": "code",
   "execution_count": null,
   "metadata": {
    "pycharm": {
     "name": "#%%\n"
    }
   },
   "outputs": [],
   "source": [
    "import matplotlib.pyplot as plt\n",
    "\n",
    "plt.style.use('dark_background')\n",
    "figsize = (20, 10)"
   ]
  },
  {
   "cell_type": "markdown",
   "metadata": {
    "pycharm": {
     "name": "#%% md\n"
    }
   },
   "source": [
    "#### Pixels per color\n",
    "We are getting **number of pixels** placed depending on **color** of the **pixel**."
   ]
  },
  {
   "cell_type": "code",
   "execution_count": null,
   "metadata": {
    "pycharm": {
     "name": "#%%\n"
    }
   },
   "outputs": [],
   "source": [
    "colors = df[\"pixel_color\"].value_counts().to_frame('counts').reset_index()\n",
    "colors = colors.rename(columns={'index': 'pixel_color', 'counts': 'counts'}).compute()\n",
    "colors.head()"
   ]
  },
  {
   "cell_type": "code",
   "execution_count": null,
   "metadata": {
    "pycharm": {
     "name": "#%%\n"
    }
   },
   "outputs": [],
   "source": [
    "fig, ax = plt.subplots(figsize=figsize)\n",
    "ax.bar(colors[\"pixel_color\"], colors[\"counts\"], color=colors[\"pixel_color\"], edgecolor=\"#FFFFFF\")\n",
    "ax.set_title('Pixels placed per color')\n",
    "ax.set_xlabel('color [hex]')\n",
    "ax.set_ylabel('pixels placed')\n",
    "plt.xticks(rotation=90)\n",
    "fig.savefig('./plots/color_counts.pdf')"
   ]
  },
  {
   "cell_type": "markdown",
   "metadata": {
    "pycharm": {
     "name": "#%% md\n"
    }
   },
   "source": [
    "#### Max pixels placed per user based on color\n",
    "Same thing as above but we are getting **maximum** number of **pixels** placed by **one user** based on **color**."
   ]
  },
  {
   "cell_type": "code",
   "execution_count": null,
   "metadata": {
    "pycharm": {
     "name": "#%%\n"
    }
   },
   "outputs": [],
   "source": [
    "colors = df.iloc[:, 1:3]\n",
    "colors['count'] = 1\n",
    "colors = colors.compute()\n",
    "colors = pd.pivot_table(colors, values='count', index='user_id', columns='pixel_color', aggfunc='count')\n",
    "\n",
    "color_user = pd.DataFrame(columns=[\"pixel_color\", \"user_max\"])\n",
    "for name, column in colors.items():\n",
    "    temp = pd.DataFrame({\"pixel_color\": [name], \"user_max\": [column.max()]})\n",
    "    color_user = pd.concat([color_user, temp], ignore_index = True)\n",
    "color_user.sort_values(by='user_max', ascending = False, inplace=True)"
   ]
  },
  {
   "cell_type": "code",
   "execution_count": null,
   "metadata": {
    "pycharm": {
     "name": "#%%\n"
    }
   },
   "outputs": [],
   "source": [
    "del colors"
   ]
  },
  {
   "cell_type": "code",
   "execution_count": null,
   "metadata": {
    "pycharm": {
     "name": "#%%\n"
    }
   },
   "outputs": [],
   "source": [
    "fig, ax = plt.subplots(figsize=figsize)\n",
    "bars = ax.bar(color_user[\"pixel_color\"], color_user[\"user_max\"], color=color_user[\"pixel_color\"], edgecolor=\"#FFFFFF\")\n",
    "ax.bar_label(bars)\n",
    "ax.set_title('Max pixels placed per one user based on color')\n",
    "ax.set_xlabel('color [hex]')\n",
    "ax.set_ylabel('pixels placed')\n",
    "plt.xticks(rotation=90)\n",
    "fig.savefig('./plots/color_user_counts.pdf')"
   ]
  },
  {
   "cell_type": "code",
   "execution_count": null,
   "metadata": {
    "pycharm": {
     "name": "#%%\n"
    }
   },
   "outputs": [],
   "source": [
    "del color_user"
   ]
  },
  {
   "cell_type": "markdown",
   "metadata": {
    "pycharm": {
     "name": "#%% md\n"
    }
   },
   "source": [
    "#### Distribution of people who placed *x* many pixels."
   ]
  },
  {
   "cell_type": "code",
   "execution_count": null,
   "metadata": {
    "pycharm": {
     "name": "#%%\n"
    }
   },
   "outputs": [],
   "source": [
    "pix_usr = df[\"user_id\"].value_counts().to_frame('pixels').reset_index(drop=True)\n",
    "# We will use pix_usr later on\n",
    "pix_usr_count = pix_usr[\"pixels\"].value_counts().to_frame('howmany').compute()\n",
    "pix_usr_count.head()"
   ]
  },
  {
   "cell_type": "code",
   "execution_count": null,
   "metadata": {
    "pycharm": {
     "name": "#%%\n"
    }
   },
   "outputs": [],
   "source": [
    "fig, ax = plt.subplots(figsize=figsize)\n",
    "ax.set_yscale('log')\n",
    "ax.set_ylabel('user count')\n",
    "ax.set_xlabel('tiles placed')\n",
    "ax.set_title('Number of users who placed x many pixels')\n",
    "ax.hist(pix_usr_count['howmany'])\n",
    "fig.savefig(\"./plots/tiles_per_user.pdf\")"
   ]
  },
  {
   "cell_type": "code",
   "execution_count": null,
   "metadata": {
    "pycharm": {
     "name": "#%%\n"
    }
   },
   "outputs": [],
   "source": [
    "del pix_usr_count"
   ]
  },
  {
   "cell_type": "markdown",
   "metadata": {
    "pycharm": {
     "name": "#%% md\n"
    }
   },
   "source": [
    "#### Top 10 users with maximum pixels placed"
   ]
  },
  {
   "cell_type": "code",
   "execution_count": null,
   "metadata": {
    "pycharm": {
     "name": "#%%\n"
    }
   },
   "outputs": [],
   "source": [
    "pix_usr = pix_usr.head(10)\n",
    "pix_usr.index += 1"
   ]
  },
  {
   "cell_type": "code",
   "execution_count": null,
   "metadata": {
    "pycharm": {
     "name": "#%%\n"
    }
   },
   "outputs": [],
   "source": [
    "fig, ax = plt.subplots(figsize=figsize)\n",
    "ax.set_ylabel('tiles placed')\n",
    "ax.set_title('Pixels placed per user [Top 10]')\n",
    "bars = ax.bar(['#'+str(i) for i in pix_usr.index], pix_usr['pixels'])\n",
    "ax.bar_label(bars)\n",
    "ax.set_ylim(ymin=min(pix_usr['pixels']-1))\n",
    "fig.savefig('./plots/top10_tiles_per_user.pdf')"
   ]
  },
  {
   "cell_type": "code",
   "execution_count": null,
   "metadata": {
    "pycharm": {
     "name": "#%%\n"
    }
   },
   "outputs": [],
   "source": [
    "del pix_usr"
   ]
  },
  {
   "cell_type": "markdown",
   "metadata": {
    "pycharm": {
     "name": "#%% md\n"
    }
   },
   "source": [
    "#### Heatmap of pixels\n",
    "really sketchy but i spend like 7 hours on this plot"
   ]
  },
  {
   "cell_type": "code",
   "execution_count": null,
   "metadata": {
    "pycharm": {
     "name": "#%%\n"
    }
   },
   "outputs": [],
   "source": [
    "# Creating an array of pixel occurrences\n",
    "h_map = np.zeros((2000, 2000), dtype='int')\n",
    "for cord in df[\"coordinate\"]:\n",
    "    cord = str(cord).split(\".\")\n",
    "    h_map[int(cord[0])][int(cord[1])] += 1\n",
    "print(h_map)"
   ]
  },
  {
   "cell_type": "code",
   "execution_count": null,
   "metadata": {
    "pycharm": {
     "name": "#%%\n"
    }
   },
   "outputs": [],
   "source": [
    "fig, ax = plt.subplots(figsize=(18.2, 15))\n",
    "ax = plt.imshow(h_map, interpolation='none', aspect='auto', vmax = 100)\n",
    "plt.colorbar()\n",
    "fig.savefig('./plots/pixels_heatmap.pdf')"
   ]
  },
  {
   "cell_type": "code",
   "execution_count": null,
   "metadata": {
    "pycharm": {
     "name": "#%%\n"
    }
   },
   "outputs": [],
   "source": [
    "del h_map"
   ]
  },
  {
   "cell_type": "markdown",
   "metadata": {
    "pycharm": {
     "name": "#%% md\n"
    }
   },
   "source": [
    "#### Activity based on time of the day\n",
    "How many **pixels** were **placed** based on **hour** of the day [UTC]."
   ]
  },
  {
   "cell_type": "code",
   "execution_count": null,
   "metadata": {
    "pycharm": {
     "name": "#%%\n"
    }
   },
   "outputs": [],
   "source": [
    "hourly = df[\"timestamp\"].compute()\n",
    "hourly = hourly.dt.strftime('%H')\n",
    "hourly = hourly.value_counts().rename_axis(\"hour\").to_frame(\"counts\").sort_index()\n",
    "hourly"
   ]
  },
  {
   "cell_type": "code",
   "execution_count": null,
   "metadata": {
    "pycharm": {
     "name": "#%%\n"
    }
   },
   "outputs": [],
   "source": [
    "fig, ax = plt.subplots(figsize=figsize)\n",
    "ax.bar(hourly.index.values, hourly[\"counts\"])\n",
    "ax.set_title('Pixels placed based on time of the day [UTC]')\n",
    "ax.set_xlabel('hour of the day')\n",
    "ax.set_ylabel('pixels placed')\n",
    "fig.savefig('./plots/hourly_activity.pdf')"
   ]
  },
  {
   "cell_type": "code",
   "execution_count": null,
   "metadata": {
    "pycharm": {
     "name": "#%%\n"
    }
   },
   "outputs": [],
   "source": [
    "del hourly"
   ]
  },
  {
   "cell_type": "markdown",
   "metadata": {
    "pycharm": {
     "name": "#%% md\n"
    }
   },
   "source": [
    "#### Activity based the day\n",
    "How many **pixels** were **placed** based on the **day**."
   ]
  },
  {
   "cell_type": "code",
   "execution_count": null,
   "metadata": {
    "pycharm": {
     "name": "#%%\n"
    }
   },
   "outputs": [],
   "source": [
    "daily = df[\"timestamp\"].compute()\n",
    "daily = daily.dt.strftime('%m-%d')\n",
    "daily = daily.value_counts().rename_axis(\"day\").to_frame(\"counts\").sort_index()\n",
    "daily"
   ]
  },
  {
   "cell_type": "code",
   "execution_count": null,
   "metadata": {
    "pycharm": {
     "name": "#%%\n"
    }
   },
   "outputs": [],
   "source": [
    "fig, ax = plt.subplots(figsize=figsize)\n",
    "ax.bar(daily.index.values, daily[\"counts\"])\n",
    "ax.set_title('Pixels placed based on the day')\n",
    "ax.set_xlabel('date')\n",
    "ax.set_ylabel('pixels placed')\n",
    "fig.savefig('./plots/daily_activity.pdf')"
   ]
  },
  {
   "cell_type": "code",
   "execution_count": null,
   "metadata": {
    "pycharm": {
     "name": "#%%\n"
    }
   },
   "outputs": [],
   "source": [
    "del daily"
   ]
  }
 ],
 "metadata": {
  "kernelspec": {
   "display_name": "Python 3.10.6 64-bit",
   "language": "python",
   "name": "python3"
  },
  "language_info": {
   "codemirror_mode": {
    "name": "ipython",
    "version": 3
   },
   "file_extension": ".py",
   "mimetype": "text/x-python",
   "name": "python",
   "nbconvert_exporter": "python",
   "pygments_lexer": "ipython3",
   "version": "3.10.6"
  },
  "orig_nbformat": 4,
  "vscode": {
   "interpreter": {
    "hash": "1b968ffcc54187eb2523cc2e92e518c24ad25b0c1fc932f9982f4e6d6d00ef4f"
   }
  }
 },
 "nbformat": 4,
 "nbformat_minor": 2
}
