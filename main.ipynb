{
 "cells": [
  {
   "cell_type": "code",
   "execution_count": 31,
   "metadata": {},
   "outputs": [
    {
     "data": {
      "text/html": [
       "<div>\n",
       "<style scoped>\n",
       "    .dataframe tbody tr th:only-of-type {\n",
       "        vertical-align: middle;\n",
       "    }\n",
       "\n",
       "    .dataframe tbody tr th {\n",
       "        vertical-align: top;\n",
       "    }\n",
       "\n",
       "    .dataframe thead th {\n",
       "        text-align: right;\n",
       "    }\n",
       "</style>\n",
       "<table border=\"1\" class=\"dataframe\">\n",
       "  <thead>\n",
       "    <tr style=\"text-align: right;\">\n",
       "      <th></th>\n",
       "      <th>timestamp</th>\n",
       "      <th>user_id</th>\n",
       "      <th>pixel_color</th>\n",
       "      <th>coordinate</th>\n",
       "    </tr>\n",
       "  </thead>\n",
       "  <tbody>\n",
       "    <tr>\n",
       "      <th>0</th>\n",
       "      <td>2022-04-04 00:53:52.223 UTC</td>\n",
       "      <td>sRE+jCymbQBGQ1HclX0jMensZvALkc4Y+HDP+toTo5r2TC...</td>\n",
       "      <td>#009EAA</td>\n",
       "      <td>256,1509</td>\n",
       "    </tr>\n",
       "    <tr>\n",
       "      <th>1</th>\n",
       "      <td>2022-04-04 00:54:16.996 UTC</td>\n",
       "      <td>q16QRqtL5LoYHyLstUgCh6vjA9abo9l8VMGdBB3kUBVFyx...</td>\n",
       "      <td>#E4ABFF</td>\n",
       "      <td>115,1930</td>\n",
       "    </tr>\n",
       "    <tr>\n",
       "      <th>2</th>\n",
       "      <td>2022-04-04 00:54:23.386 UTC</td>\n",
       "      <td>D+HMqvb+xe+6MycijiENAngmcZB6fDIb+/Ebm/rr/q/ezT...</td>\n",
       "      <td>#94B3FF</td>\n",
       "      <td>970,111</td>\n",
       "    </tr>\n",
       "    <tr>\n",
       "      <th>3</th>\n",
       "      <td>2022-04-04 00:54:27.851 UTC</td>\n",
       "      <td>x3P7zSq4xUvvU/Ra7RvNPATw9GxVgempZ1+CQCghVciFcz...</td>\n",
       "      <td>#94B3FF</td>\n",
       "      <td>863,1256</td>\n",
       "    </tr>\n",
       "    <tr>\n",
       "      <th>4</th>\n",
       "      <td>2022-04-04 00:54:35.535 UTC</td>\n",
       "      <td>dh64bY7Cor0LTGLsrwtMgSwg9sP9koD+lGqlGyNWxArFel...</td>\n",
       "      <td>#94B3FF</td>\n",
       "      <td>1956,395</td>\n",
       "    </tr>\n",
       "  </tbody>\n",
       "</table>\n",
       "</div>"
      ],
      "text/plain": [
       "                     timestamp  \\\n",
       "0  2022-04-04 00:53:52.223 UTC   \n",
       "1  2022-04-04 00:54:16.996 UTC   \n",
       "2  2022-04-04 00:54:23.386 UTC   \n",
       "3  2022-04-04 00:54:27.851 UTC   \n",
       "4  2022-04-04 00:54:35.535 UTC   \n",
       "\n",
       "                                             user_id pixel_color coordinate  \n",
       "0  sRE+jCymbQBGQ1HclX0jMensZvALkc4Y+HDP+toTo5r2TC...     #009EAA   256,1509  \n",
       "1  q16QRqtL5LoYHyLstUgCh6vjA9abo9l8VMGdBB3kUBVFyx...     #E4ABFF   115,1930  \n",
       "2  D+HMqvb+xe+6MycijiENAngmcZB6fDIb+/Ebm/rr/q/ezT...     #94B3FF    970,111  \n",
       "3  x3P7zSq4xUvvU/Ra7RvNPATw9GxVgempZ1+CQCghVciFcz...     #94B3FF   863,1256  \n",
       "4  dh64bY7Cor0LTGLsrwtMgSwg9sP9koD+lGqlGyNWxArFel...     #94B3FF   1956,395  "
      ]
     },
     "execution_count": 31,
     "metadata": {},
     "output_type": "execute_result"
    }
   ],
   "source": [
    "import pandas as pd\n",
    "import numpy as np\n",
    "import datetime\n",
    "\n",
    "dfs = []\n",
    "# Data is split into 79 files\n",
    "for i in range(1,10):\n",
    "    df = pd.read_csv(f\"data/2022_place_canvas_history-00000000000{i}.csv.gzip\", compression=\"gzip\")\n",
    "    dfs.append(df)\n",
    "df = pd.concat(dfs)\n",
    "df.head()"
   ]
  },
  {
   "cell_type": "markdown",
   "metadata": {},
   "source": [
    "Pandas have a built-in data parser but in my experience, it is super slow (in this example it was about 7 times slower)."
   ]
  },
  {
   "cell_type": "code",
   "execution_count": 32,
   "metadata": {},
   "outputs": [],
   "source": [
    "def parse_date(date):\n",
    "    try:\n",
    "        return datetime.datetime.strptime(date.strip(\" UTC\"), '%Y-%m-%d %H:%M:%S.%f')\n",
    "    except ValueError:\n",
    "        return datetime.datetime.strptime(date.strip(\" UTC\"), '%Y-%m-%d %H:%M:%S')\n",
    "\n",
    "df['timestamp'] = df['timestamp'].apply(lambda x: parse_date(x))"
   ]
  },
  {
   "cell_type": "markdown",
   "metadata": {},
   "source": [
    "Those cells are split to easily see the **runtime** of the **data parser**."
   ]
  },
  {
   "cell_type": "code",
   "execution_count": 33,
   "metadata": {},
   "outputs": [
    {
     "data": {
      "text/plain": [
       "timestamp      datetime64[ns]\n",
       "user_id                string\n",
       "pixel_color            string\n",
       "coordinate            float64\n",
       "dtype: object"
      ]
     },
     "execution_count": 33,
     "metadata": {},
     "output_type": "execute_result"
    }
   ],
   "source": [
    "df['user_id'] = df['user_id'].astype('string')\n",
    "df['pixel_color'] = df['pixel_color'].astype('string')\n",
    "\n",
    "def parse_cord(cord):\n",
    "    try:\n",
    "        return float(cord.replace(\",\", \".\"))\n",
    "    except ValueError:\n",
    "        # Mods sometimes used the rectangle tool to censor NSFW, in those cases cords look like this (x1,y1,x2,y2).\n",
    "        # With the code below we can get a tuple with opposite rectangle corners, but I didn't need that data.\n",
    "        ###\n",
    "        # cords = cord.split('.')\n",
    "        # return (float(cord[0]+'.'+cord[1]), float(cord[2]+'.'+cord[3]))\n",
    "        ###\n",
    "        return np.NaN\n",
    "\n",
    "\n",
    "df[\"coordinate\"] = df[\"coordinate\"].apply(lambda x: parse_cord(x))\n",
    "\n",
    "df.dropna(how=\"any\", inplace=True)\n",
    "df.dtypes"
   ]
  },
  {
   "cell_type": "markdown",
   "metadata": {},
   "source": [
    "### Prepare matplotlib\n",
    "Each analysis will be split into three parts:\n",
    "1. Description\n",
    "2. Data editing\n",
    "3. Ploting"
   ]
  },
  {
   "cell_type": "code",
   "execution_count": 34,
   "metadata": {},
   "outputs": [],
   "source": [
    "import matplotlib.pyplot as plt\n",
    "\n",
    "plt.style.use('dark_background')\n",
    "figsize = (20, 10)"
   ]
  },
  {
   "cell_type": "markdown",
   "metadata": {},
   "source": [
    "#### Pixels per color\n",
    "We are getting **number of pixels** placed depending on **color** of the **pixel**."
   ]
  },
  {
   "cell_type": "code",
   "execution_count": null,
   "metadata": {},
   "outputs": [],
   "source": [
    "colors = df[\"pixel_color\"].value_counts().rename_axis('pixel_color').to_frame('counts').reset_index()\n",
    "colors.head()"
   ]
  },
  {
   "cell_type": "code",
   "execution_count": null,
   "metadata": {},
   "outputs": [],
   "source": [
    "fig, ax = plt.subplots(figsize=figsize)\n",
    "ax.bar(colors[\"pixel_color\"], colors[\"counts\"], color=colors[\"pixel_color\"], edgecolor=\"#FFFFFF\")\n",
    "ax.set_title('Pixels placed per color')\n",
    "ax.set_xlabel('color [hex]')\n",
    "ax.set_ylabel('pixels placed')\n",
    "plt.xticks(rotation=90)\n",
    "fig.savefig('./plots/color_counts.pdf')"
   ]
  },
  {
   "cell_type": "markdown",
   "metadata": {},
   "source": [
    "#### Max pixels placed per user based on color\n",
    "Same thing as above but we are getting **maximum** number of **pixels** placed by **one user** based on **color**."
   ]
  },
  {
   "cell_type": "code",
   "execution_count": 48,
   "metadata": {},
   "outputs": [],
   "source": [
    "colors = df.iloc[:, 1:3]\n",
    "colors['count'] = 1\n",
    "colors= pd.pivot_table(colors, values='count', index='user_id', columns='pixel_color', aggfunc='count')\n",
    "\n",
    "color_user = pd.DataFrame(columns=[\"pixel_color\", \"user_max\"])\n",
    "for name, column in colors.items():\n",
    "    color_user = color_user.append({\"pixel_color\": name, \"user_max\": column.max()}, ignore_index = True)\n",
    "color_user.sort_values(by='user_max', ascending = False, inplace=True)\n"
   ]
  },
  {
   "cell_type": "code",
   "execution_count": 49,
   "metadata": {},
   "outputs": [
    {
     "data": {
      "image/png": "[encoded data removed]",
      "text/plain": [
       "<Figure size 1440x720 with 1 Axes>"
      ]
     },
     "metadata": {},
     "output_type": "display_data"
    }
   ],
   "source": [
    "fig, ax = plt.subplots(figsize=figsize)\n",
    "bars = ax.bar(color_user[\"pixel_color\"], color_user[\"user_max\"], color=color_user[\"pixel_color\"], edgecolor=\"#FFFFFF\")\n",
    "ax.bar_label(bars)\n",
    "ax.set_title('Max pixels placed per one user based on color')\n",
    "ax.set_xlabel('color [hex]')\n",
    "ax.set_ylabel('pixels placed')\n",
    "plt.xticks(rotation=90)\n",
    "fig.savefig('./plots/color_user_counts.pdf')"
   ]
  },
  {
   "cell_type": "markdown",
   "metadata": {},
   "source": [
    "#### Distributioni of people who placed *x* many pixels."
   ]
  },
  {
   "cell_type": "code",
   "execution_count": 59,
   "metadata": {},
   "outputs": [
    {
     "data": {
      "text/html": [
       "<div>\n",
       "<style scoped>\n",
       "    .dataframe tbody tr th:only-of-type {\n",
       "        vertical-align: middle;\n",
       "    }\n",
       "\n",
       "    .dataframe tbody tr th {\n",
       "        vertical-align: top;\n",
       "    }\n",
       "\n",
       "    .dataframe thead th {\n",
       "        text-align: right;\n",
       "    }\n",
       "</style>\n",
       "<table border=\"1\" class=\"dataframe\">\n",
       "  <thead>\n",
       "    <tr style=\"text-align: right;\">\n",
       "      <th></th>\n",
       "      <th>howmany</th>\n",
       "    </tr>\n",
       "    <tr>\n",
       "      <th>pixels</th>\n",
       "      <th></th>\n",
       "    </tr>\n",
       "  </thead>\n",
       "  <tbody>\n",
       "    <tr>\n",
       "      <th>1</th>\n",
       "      <td>1469162</td>\n",
       "    </tr>\n",
       "    <tr>\n",
       "      <th>2</th>\n",
       "      <td>691505</td>\n",
       "    </tr>\n",
       "    <tr>\n",
       "      <th>3</th>\n",
       "      <td>430112</td>\n",
       "    </tr>\n",
       "    <tr>\n",
       "      <th>4</th>\n",
       "      <td>300286</td>\n",
       "    </tr>\n",
       "    <tr>\n",
       "      <th>5</th>\n",
       "      <td>207514</td>\n",
       "    </tr>\n",
       "  </tbody>\n",
       "</table>\n",
       "</div>"
      ],
      "text/plain": [
       "        howmany\n",
       "pixels         \n",
       "1       1469162\n",
       "2        691505\n",
       "3        430112\n",
       "4        300286\n",
       "5        207514"
      ]
     },
     "execution_count": 59,
     "metadata": {},
     "output_type": "execute_result"
    }
   ],
   "source": [
    "pix_usr = df[\"user_id\"].value_counts().to_frame('pixels').reset_index(drop=True)\n",
    "# We will use pix_usr later on\n",
    "pix_usr_count = pix_usr[\"pixels\"].value_counts().rename_axis('pixels').to_frame('howmany')\n",
    "pix_usr_count.head()"
   ]
  },
  {
   "cell_type": "code",
   "execution_count": 60,
   "metadata": {},
   "outputs": [
    {
     "data": {
      "image/png": "[encoded data removed]",
      "text/plain": [
       "<Figure size 1440x720 with 1 Axes>"
      ]
     },
     "metadata": {},
     "output_type": "display_data"
    }
   ],
   "source": [
    "fig, ax = plt.subplots(figsize=figsize)\n",
    "ax.set_yscale('log')\n",
    "ax.set_ylabel('user count')\n",
    "ax.set_xlabel('tiles placed')\n",
    "ax.set_title('Number of users who placed x many pixels')\n",
    "ax.hist(pix_usr['pixels'])\n",
    "fig.savefig(\"./plots/tiles_per_user.pdf\")"
   ]
  },
  {
   "cell_type": "markdown",
   "metadata": {},
   "source": [
    "#### Top 10 users with maximum pixels placed"
   ]
  },
  {
   "cell_type": "code",
   "execution_count": null,
   "metadata": {},
   "outputs": [],
   "source": [
    "pix_usr = pix_usr[:10]\n",
    "pix_usr.index += 1"
   ]
  },
  {
   "cell_type": "code",
   "execution_count": null,
   "metadata": {},
   "outputs": [],
   "source": [
    "fig, ax = plt.subplots(figsize=figsize)\n",
    "ax.set_ylabel('tiles placed')\n",
    "ax.set_title('Pixels placed per user [Top 10]')\n",
    "bars = ax.bar(['#'+str(i) for i in pix_usr.index], pix_usr['pixels'])\n",
    "ax.bar_label(bars)\n",
    "ax.set_ylim(ymin=min(pix_usr['pixels']-1))\n",
    "fig.savefig('./plots/top10_tiles_per_user.pdf')"
   ]
  },
  {
   "cell_type": "markdown",
   "metadata": {},
   "source": [
    "#### Heatmap of pixels\n",
    "really sketchy but i spend like 7 hours on this plot"
   ]
  },
  {
   "cell_type": "code",
   "execution_count": null,
   "metadata": {},
   "outputs": [],
   "source": [
    "def parse_cords(cord: float):\n",
    "    cord = str(cord).split(\".\")\n",
    "    h_map[int(cord[0])][int(cord[1])] += 1"
   ]
  },
  {
   "cell_type": "code",
   "execution_count": null,
   "metadata": {},
   "outputs": [],
   "source": [
    "# Creating an array of pixel occurrences\n",
    "h_map = np.zeros((2000, 2000), dtype='int')\n",
    "cords = df[\"coordinate\"].map(lambda cord: parse_cords(cord))\n",
    "print(h_map)"
   ]
  },
  {
   "cell_type": "code",
   "execution_count": null,
   "metadata": {},
   "outputs": [],
   "source": [
    "fig, ax = plt.subplots(figsize=figsize)\n",
    "ax = plt.imshow(h_map, interpolation='none', aspect='auto', vmax = 100)\n",
    "plt.colorbar()\n",
    "fig.savefig('./plots/pixels_heatmap.pdf')"
   ]
  },
  {
   "cell_type": "markdown",
   "metadata": {},
   "source": [
    "#### Activity based on time of the day\n",
    "How many **pixels** were **placed** based on **hour** of the day [UTC]."
   ]
  },
  {
   "cell_type": "code",
   "execution_count": 61,
   "metadata": {},
   "outputs": [
    {
     "data": {
      "text/html": [
       "<div>\n",
       "<style scoped>\n",
       "    .dataframe tbody tr th:only-of-type {\n",
       "        vertical-align: middle;\n",
       "    }\n",
       "\n",
       "    .dataframe tbody tr th {\n",
       "        vertical-align: top;\n",
       "    }\n",
       "\n",
       "    .dataframe thead th {\n",
       "        text-align: right;\n",
       "    }\n",
       "</style>\n",
       "<table border=\"1\" class=\"dataframe\">\n",
       "  <thead>\n",
       "    <tr style=\"text-align: right;\">\n",
       "      <th></th>\n",
       "      <th>counts</th>\n",
       "    </tr>\n",
       "    <tr>\n",
       "      <th>hour</th>\n",
       "      <th></th>\n",
       "    </tr>\n",
       "  </thead>\n",
       "  <tbody>\n",
       "    <tr>\n",
       "      <th>00</th>\n",
       "      <td>435007</td>\n",
       "    </tr>\n",
       "    <tr>\n",
       "      <th>01</th>\n",
       "      <td>1034750</td>\n",
       "    </tr>\n",
       "    <tr>\n",
       "      <th>03</th>\n",
       "      <td>818973</td>\n",
       "    </tr>\n",
       "    <tr>\n",
       "      <th>04</th>\n",
       "      <td>1946465</td>\n",
       "    </tr>\n",
       "    <tr>\n",
       "      <th>05</th>\n",
       "      <td>808696</td>\n",
       "    </tr>\n",
       "    <tr>\n",
       "      <th>06</th>\n",
       "      <td>477368</td>\n",
       "    </tr>\n",
       "    <tr>\n",
       "      <th>15</th>\n",
       "      <td>1697040</td>\n",
       "    </tr>\n",
       "    <tr>\n",
       "      <th>16</th>\n",
       "      <td>1678345</td>\n",
       "    </tr>\n",
       "    <tr>\n",
       "      <th>17</th>\n",
       "      <td>1096042</td>\n",
       "    </tr>\n",
       "    <tr>\n",
       "      <th>18</th>\n",
       "      <td>1176820</td>\n",
       "    </tr>\n",
       "    <tr>\n",
       "      <th>19</th>\n",
       "      <td>2133868</td>\n",
       "    </tr>\n",
       "    <tr>\n",
       "      <th>22</th>\n",
       "      <td>74840</td>\n",
       "    </tr>\n",
       "    <tr>\n",
       "      <th>23</th>\n",
       "      <td>3517121</td>\n",
       "    </tr>\n",
       "  </tbody>\n",
       "</table>\n",
       "</div>"
      ],
      "text/plain": [
       "       counts\n",
       "hour         \n",
       "00     435007\n",
       "01    1034750\n",
       "03     818973\n",
       "04    1946465\n",
       "05     808696\n",
       "06     477368\n",
       "15    1697040\n",
       "16    1678345\n",
       "17    1096042\n",
       "18    1176820\n",
       "19    2133868\n",
       "22      74840\n",
       "23    3517121"
      ]
     },
     "execution_count": 61,
     "metadata": {},
     "output_type": "execute_result"
    }
   ],
   "source": [
    "hourly = df[\"timestamp\"].dt.strftime('%H').reset_index(drop=True)\n",
    "hourly = hourly.value_counts().rename_axis(\"hour\").to_frame(\"counts\").sort_index()\n",
    "hourly"
   ]
  },
  {
   "cell_type": "code",
   "execution_count": 67,
   "metadata": {},
   "outputs": [
    {
     "data": {
      "image/png": "[encoded data removed]",
      "text/plain": [
       "<Figure size 1440x720 with 1 Axes>"
      ]
     },
     "metadata": {},
     "output_type": "display_data"
    }
   ],
   "source": [
    "fig, ax = plt.subplots(figsize=figsize)\n",
    "ax.bar(hourly.index.values, hourly[\"counts\"])\n",
    "ax.set_title('Pixels placed based on time of the day [UTC]')\n",
    "ax.set_xlabel('hour of the day')\n",
    "ax.set_ylabel('pixels placed')\n",
    "fig.savefig('./plots/hourly_activity.pdf')"
   ]
  }
 ],
 "metadata": {
  "interpreter": {
   "hash": "df98e1c48961a90eb32c90b72cdc994c7663940ed7de2426fd710eb65feea35f"
  },
  "kernelspec": {
   "display_name": "Python 3.10.1 64-bit",
   "language": "python",
   "name": "python3"
  },
  "language_info": {
   "codemirror_mode": {
    "name": "ipython",
    "version": 3
   },
   "file_extension": ".py",
   "mimetype": "text/x-python",
   "name": "python",
   "nbconvert_exporter": "python",
   "pygments_lexer": "ipython3",
   "version": "3.10.1"
  },
  "orig_nbformat": 4
 },
 "nbformat": 4,
 "nbformat_minor": 2
}
