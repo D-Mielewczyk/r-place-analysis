{
 "cells": [
  {
   "cell_type": "code",
   "execution_count": 1,
   "metadata": {},
   "outputs": [
    {
     "data": {
      "text/html": [
       "<div>\n",
       "<style scoped>\n",
       "    .dataframe tbody tr th:only-of-type {\n",
       "        vertical-align: middle;\n",
       "    }\n",
       "\n",
       "    .dataframe tbody tr th {\n",
       "        vertical-align: top;\n",
       "    }\n",
       "\n",
       "    .dataframe thead th {\n",
       "        text-align: right;\n",
       "    }\n",
       "</style>\n",
       "<table border=\"1\" class=\"dataframe\">\n",
       "  <thead>\n",
       "    <tr style=\"text-align: right;\">\n",
       "      <th></th>\n",
       "      <th>timestamp</th>\n",
       "      <th>user_id</th>\n",
       "      <th>pixel_color</th>\n",
       "      <th>coordinate</th>\n",
       "    </tr>\n",
       "  </thead>\n",
       "  <tbody>\n",
       "    <tr>\n",
       "      <th>0</th>\n",
       "      <td>2022-04-04 00:53:52.223 UTC</td>\n",
       "      <td>sRE+jCymbQBGQ1HclX0jMensZvALkc4Y+HDP+toTo5r2TC...</td>\n",
       "      <td>#009EAA</td>\n",
       "      <td>256,1509</td>\n",
       "    </tr>\n",
       "    <tr>\n",
       "      <th>1</th>\n",
       "      <td>2022-04-04 00:54:16.996 UTC</td>\n",
       "      <td>q16QRqtL5LoYHyLstUgCh6vjA9abo9l8VMGdBB3kUBVFyx...</td>\n",
       "      <td>#E4ABFF</td>\n",
       "      <td>115,1930</td>\n",
       "    </tr>\n",
       "    <tr>\n",
       "      <th>2</th>\n",
       "      <td>2022-04-04 00:54:23.386 UTC</td>\n",
       "      <td>D+HMqvb+xe+6MycijiENAngmcZB6fDIb+/Ebm/rr/q/ezT...</td>\n",
       "      <td>#94B3FF</td>\n",
       "      <td>970,111</td>\n",
       "    </tr>\n",
       "    <tr>\n",
       "      <th>3</th>\n",
       "      <td>2022-04-04 00:54:27.851 UTC</td>\n",
       "      <td>x3P7zSq4xUvvU/Ra7RvNPATw9GxVgempZ1+CQCghVciFcz...</td>\n",
       "      <td>#94B3FF</td>\n",
       "      <td>863,1256</td>\n",
       "    </tr>\n",
       "    <tr>\n",
       "      <th>4</th>\n",
       "      <td>2022-04-04 00:54:35.535 UTC</td>\n",
       "      <td>dh64bY7Cor0LTGLsrwtMgSwg9sP9koD+lGqlGyNWxArFel...</td>\n",
       "      <td>#94B3FF</td>\n",
       "      <td>1956,395</td>\n",
       "    </tr>\n",
       "  </tbody>\n",
       "</table>\n",
       "</div>"
      ],
      "text/plain": [
       "                     timestamp  \\\n",
       "0  2022-04-04 00:53:52.223 UTC   \n",
       "1  2022-04-04 00:54:16.996 UTC   \n",
       "2  2022-04-04 00:54:23.386 UTC   \n",
       "3  2022-04-04 00:54:27.851 UTC   \n",
       "4  2022-04-04 00:54:35.535 UTC   \n",
       "\n",
       "                                             user_id pixel_color coordinate  \n",
       "0  sRE+jCymbQBGQ1HclX0jMensZvALkc4Y+HDP+toTo5r2TC...     #009EAA   256,1509  \n",
       "1  q16QRqtL5LoYHyLstUgCh6vjA9abo9l8VMGdBB3kUBVFyx...     #E4ABFF   115,1930  \n",
       "2  D+HMqvb+xe+6MycijiENAngmcZB6fDIb+/Ebm/rr/q/ezT...     #94B3FF    970,111  \n",
       "3  x3P7zSq4xUvvU/Ra7RvNPATw9GxVgempZ1+CQCghVciFcz...     #94B3FF   863,1256  \n",
       "4  dh64bY7Cor0LTGLsrwtMgSwg9sP9koD+lGqlGyNWxArFel...     #94B3FF   1956,395  "
      ]
     },
     "execution_count": 1,
     "metadata": {},
     "output_type": "execute_result"
    }
   ],
   "source": [
    "import pandas as pd\n",
    "import numpy as np\n",
    "import datetime\n",
    "\n",
    "dfs = []\n",
    "# Data is split into 79 files\n",
    "for i in range(1,4):\n",
    "    df = pd.read_csv(f\"data/2022_place_canvas_history-00000000000{i}.csv.gzip\", compression=\"gzip\")\n",
    "    dfs.append(df)\n",
    "df = pd.concat(dfs)\n",
    "df.head()"
   ]
  },
  {
   "cell_type": "markdown",
   "metadata": {},
   "source": [
    "Pandas have a built-in data parser but in my experience, it is super slow (in this example it was about 7 times slower)."
   ]
  },
  {
   "cell_type": "code",
   "execution_count": 2,
   "metadata": {},
   "outputs": [],
   "source": [
    "def parse_date(date):\n",
    "    try:\n",
    "        return datetime.datetime.strptime(date.strip(\" UTC\"), '%Y-%m-%d %H:%M:%S.%f')\n",
    "    except ValueError:\n",
    "        return datetime.datetime.strptime(date.strip(\" UTC\"), '%Y-%m-%d %H:%M:%S')\n",
    "\n",
    "df['timestamp'] = df['timestamp'].apply(lambda x: parse_date(x))"
   ]
  },
  {
   "cell_type": "markdown",
   "metadata": {},
   "source": [
    "Those cells are split to easily see the **runtime** of the **data parser**."
   ]
  },
  {
   "cell_type": "code",
   "execution_count": 3,
   "metadata": {},
   "outputs": [
    {
     "data": {
      "text/plain": [
       "timestamp      datetime64[ns]\n",
       "user_id                string\n",
       "pixel_color            string\n",
       "coordinate            float64\n",
       "dtype: object"
      ]
     },
     "execution_count": 3,
     "metadata": {},
     "output_type": "execute_result"
    }
   ],
   "source": [
    "df['user_id'] = df['user_id'].astype('string')\n",
    "df['pixel_color'] = df['pixel_color'].astype('string')\n",
    "\n",
    "def parse_cord(cord):\n",
    "    try:\n",
    "        return float(cord.replace(\",\", \".\"))\n",
    "    except:\n",
    "        # Mods sometimes used the rectangle tool to censor NSFW, in those cases cords look like this (x1,y1,x2,y2).\n",
    "        # With the code below we can get a tuple with opposite rectangle corners, but I didn't need that data.\n",
    "        ###\n",
    "        # cords = cord.split('.')\n",
    "        # return (float(cord[0]+'.'+cord[1]), float(cord[2]+'.'+cord[3]))\n",
    "        ###\n",
    "        return np.NaN\n",
    "\n",
    "\n",
    "df[\"coordinate\"] = df[\"coordinate\"].apply(lambda x: parse_cord(x))\n",
    "\n",
    "df.dropna(how=\"any\")\n",
    "df.dtypes"
   ]
  },
  {
   "cell_type": "markdown",
   "metadata": {},
   "source": [
    "### Prepare matplotlib\n",
    "Each analysis will be split into three parts:\n",
    "1. Description\n",
    "2. Data editing\n",
    "3. Ploting"
   ]
  },
  {
   "cell_type": "code",
   "execution_count": 4,
   "metadata": {},
   "outputs": [],
   "source": [
    "import matplotlib.pyplot as plt\n",
    "\n",
    "plt.style.use('dark_background')\n",
    "figsize = (20, 10)"
   ]
  },
  {
   "cell_type": "markdown",
   "metadata": {},
   "source": [
    "#### Pixels per color\n",
    "We are getting **number of pixels** placed depending on **color** of the **pixel**."
   ]
  },
  {
   "cell_type": "code",
   "execution_count": 5,
   "metadata": {},
   "outputs": [
    {
     "data": {
      "text/html": [
       "<div>\n",
       "<style scoped>\n",
       "    .dataframe tbody tr th:only-of-type {\n",
       "        vertical-align: middle;\n",
       "    }\n",
       "\n",
       "    .dataframe tbody tr th {\n",
       "        vertical-align: top;\n",
       "    }\n",
       "\n",
       "    .dataframe thead th {\n",
       "        text-align: right;\n",
       "    }\n",
       "</style>\n",
       "<table border=\"1\" class=\"dataframe\">\n",
       "  <thead>\n",
       "    <tr style=\"text-align: right;\">\n",
       "      <th></th>\n",
       "      <th>pixel_color</th>\n",
       "      <th>counts</th>\n",
       "    </tr>\n",
       "  </thead>\n",
       "  <tbody>\n",
       "    <tr>\n",
       "      <th>0</th>\n",
       "      <td>#000000</td>\n",
       "      <td>1135422</td>\n",
       "    </tr>\n",
       "    <tr>\n",
       "      <th>1</th>\n",
       "      <td>#FFFFFF</td>\n",
       "      <td>835934</td>\n",
       "    </tr>\n",
       "    <tr>\n",
       "      <th>2</th>\n",
       "      <td>#2450A4</td>\n",
       "      <td>396720</td>\n",
       "    </tr>\n",
       "    <tr>\n",
       "      <th>3</th>\n",
       "      <td>#FFA800</td>\n",
       "      <td>348065</td>\n",
       "    </tr>\n",
       "    <tr>\n",
       "      <th>4</th>\n",
       "      <td>#BE0039</td>\n",
       "      <td>340699</td>\n",
       "    </tr>\n",
       "  </tbody>\n",
       "</table>\n",
       "</div>"
      ],
      "text/plain": [
       "  pixel_color   counts\n",
       "0     #000000  1135422\n",
       "1     #FFFFFF   835934\n",
       "2     #2450A4   396720\n",
       "3     #FFA800   348065\n",
       "4     #BE0039   340699"
      ]
     },
     "execution_count": 5,
     "metadata": {},
     "output_type": "execute_result"
    }
   ],
   "source": [
    "colors = df[\"pixel_color\"].value_counts().rename_axis('pixel_color').to_frame('counts').reset_index()\n",
    "colors.head()"
   ]
  },
  {
   "cell_type": "code",
   "execution_count": 6,
   "metadata": {},
   "outputs": [
    {
     "data": {
      "image/png": "[encoded data removed]",
      "text/plain": [
       "<Figure size 1440x720 with 1 Axes>"
      ]
     },
     "metadata": {},
     "output_type": "display_data"
    }
   ],
   "source": [
    "fig, ax = plt.subplots(figsize=figsize)\n",
    "ax.bar(colors[\"pixel_color\"], colors[\"counts\"], color=colors[\"pixel_color\"], edgecolor=\"#FFFFFF\")\n",
    "ax.set_title('Pixels placed per color')\n",
    "ax.set_xlabel('color [hex]')\n",
    "ax.set_ylabel('pixels placed')\n",
    "plt.xticks(rotation=90)\n",
    "fig.savefig('./plots/color_counts.pdf')"
   ]
  },
  {
   "cell_type": "markdown",
   "metadata": {},
   "source": [
    "#### Max pixels placed per user based on color\n",
    "Same thing as above but we are getting **maximum** number of **pixels** placed by **one user** based on **color**."
   ]
  },
  {
   "cell_type": "code",
   "execution_count": 7,
   "metadata": {},
   "outputs": [],
   "source": [
    "colors = df.iloc[:, 1:3]\n",
    "colors['count'] = 1\n",
    "colors= pd.pivot_table(colors, values='count', index='user_id', columns='pixel_color', aggfunc='count')\n",
    "\n",
    "color_user = pd.DataFrame(columns=[\"pixel_color\", \"user_max\"])\n",
    "for name, column in colors.items():\n",
    "    color_user = color_user.append({\"pixel_color\": name, \"user_max\": column.max()}, ignore_index = True)\n",
    "color_user.sort_values(by='user_max', ascending = False, inplace=True)\n"
   ]
  },
  {
   "cell_type": "code",
   "execution_count": 8,
   "metadata": {},
   "outputs": [
    {
     "data": {
      "image/png": "[encoded data removed]",
      "text/plain": [
       "<Figure size 1440x720 with 1 Axes>"
      ]
     },
     "metadata": {},
     "output_type": "display_data"
    }
   ],
   "source": [
    "fig, ax = plt.subplots(figsize=figsize)\n",
    "bars = ax.bar(color_user[\"pixel_color\"], color_user[\"user_max\"], color=color_user[\"pixel_color\"], edgecolor=\"#FFFFFF\")\n",
    "ax.bar_label(bars)\n",
    "ax.set_title('Max pixels placed per one user based on color')\n",
    "ax.set_xlabel('color [hex]')\n",
    "ax.set_ylabel('pixels placed')\n",
    "plt.xticks(rotation=90)\n",
    "fig.savefig('./plots/color_user_counts.pdf')"
   ]
  },
  {
   "cell_type": "markdown",
   "metadata": {},
   "source": []
  },
  {
   "cell_type": "code",
   "execution_count": 45,
   "metadata": {},
   "outputs": [
    {
     "name": "stderr",
     "output_type": "stream",
     "text": [
      "C:\\Users\\Dawid\\AppData\\Local\\Temp/ipykernel_9700/1111202744.py:3: FutureWarning: In a future version of pandas all arguments of DataFrame.drop except for the argument 'labels' will be keyword-only\n",
      "  pix_usr = pix_usr.drop([\"index\"], 1)\n"
     ]
    },
    {
     "data": {
      "text/html": [
       "<div>\n",
       "<style scoped>\n",
       "    .dataframe tbody tr th:only-of-type {\n",
       "        vertical-align: middle;\n",
       "    }\n",
       "\n",
       "    .dataframe tbody tr th {\n",
       "        vertical-align: top;\n",
       "    }\n",
       "\n",
       "    .dataframe thead th {\n",
       "        text-align: right;\n",
       "    }\n",
       "</style>\n",
       "<table border=\"1\" class=\"dataframe\">\n",
       "  <thead>\n",
       "    <tr style=\"text-align: right;\">\n",
       "      <th></th>\n",
       "      <th>pixels</th>\n",
       "      <th>howmany</th>\n",
       "    </tr>\n",
       "  </thead>\n",
       "  <tbody>\n",
       "    <tr>\n",
       "      <th>0</th>\n",
       "      <td>1</td>\n",
       "      <td>581750</td>\n",
       "    </tr>\n",
       "    <tr>\n",
       "      <th>1</th>\n",
       "      <td>2</td>\n",
       "      <td>248431</td>\n",
       "    </tr>\n",
       "    <tr>\n",
       "      <th>2</th>\n",
       "      <td>3</td>\n",
       "      <td>143250</td>\n",
       "    </tr>\n",
       "    <tr>\n",
       "      <th>3</th>\n",
       "      <td>4</td>\n",
       "      <td>95541</td>\n",
       "    </tr>\n",
       "    <tr>\n",
       "      <th>4</th>\n",
       "      <td>5</td>\n",
       "      <td>70836</td>\n",
       "    </tr>\n",
       "    <tr>\n",
       "      <th>5</th>\n",
       "      <td>6</td>\n",
       "      <td>55585</td>\n",
       "    </tr>\n",
       "    <tr>\n",
       "      <th>6</th>\n",
       "      <td>7</td>\n",
       "      <td>45936</td>\n",
       "    </tr>\n",
       "    <tr>\n",
       "      <th>7</th>\n",
       "      <td>8</td>\n",
       "      <td>40126</td>\n",
       "    </tr>\n",
       "    <tr>\n",
       "      <th>8</th>\n",
       "      <td>9</td>\n",
       "      <td>36012</td>\n",
       "    </tr>\n",
       "    <tr>\n",
       "      <th>9</th>\n",
       "      <td>10</td>\n",
       "      <td>31978</td>\n",
       "    </tr>\n",
       "    <tr>\n",
       "      <th>10</th>\n",
       "      <td>11</td>\n",
       "      <td>28210</td>\n",
       "    </tr>\n",
       "    <tr>\n",
       "      <th>11</th>\n",
       "      <td>12</td>\n",
       "      <td>21379</td>\n",
       "    </tr>\n",
       "    <tr>\n",
       "      <th>12</th>\n",
       "      <td>13</td>\n",
       "      <td>14282</td>\n",
       "    </tr>\n",
       "    <tr>\n",
       "      <th>13</th>\n",
       "      <td>14</td>\n",
       "      <td>9775</td>\n",
       "    </tr>\n",
       "    <tr>\n",
       "      <th>14</th>\n",
       "      <td>15</td>\n",
       "      <td>7152</td>\n",
       "    </tr>\n",
       "    <tr>\n",
       "      <th>15</th>\n",
       "      <td>16</td>\n",
       "      <td>4965</td>\n",
       "    </tr>\n",
       "    <tr>\n",
       "      <th>16</th>\n",
       "      <td>17</td>\n",
       "      <td>3291</td>\n",
       "    </tr>\n",
       "    <tr>\n",
       "      <th>17</th>\n",
       "      <td>18</td>\n",
       "      <td>1922</td>\n",
       "    </tr>\n",
       "    <tr>\n",
       "      <th>18</th>\n",
       "      <td>19</td>\n",
       "      <td>958</td>\n",
       "    </tr>\n",
       "    <tr>\n",
       "      <th>19</th>\n",
       "      <td>20</td>\n",
       "      <td>410</td>\n",
       "    </tr>\n",
       "    <tr>\n",
       "      <th>20</th>\n",
       "      <td>21</td>\n",
       "      <td>140</td>\n",
       "    </tr>\n",
       "    <tr>\n",
       "      <th>21</th>\n",
       "      <td>22</td>\n",
       "      <td>35</td>\n",
       "    </tr>\n",
       "    <tr>\n",
       "      <th>22</th>\n",
       "      <td>23</td>\n",
       "      <td>9</td>\n",
       "    </tr>\n",
       "    <tr>\n",
       "      <th>23</th>\n",
       "      <td>26</td>\n",
       "      <td>1</td>\n",
       "    </tr>\n",
       "    <tr>\n",
       "      <th>24</th>\n",
       "      <td>24</td>\n",
       "      <td>1</td>\n",
       "    </tr>\n",
       "    <tr>\n",
       "      <th>25</th>\n",
       "      <td>25</td>\n",
       "      <td>1</td>\n",
       "    </tr>\n",
       "    <tr>\n",
       "      <th>26</th>\n",
       "      <td>30</td>\n",
       "      <td>1</td>\n",
       "    </tr>\n",
       "  </tbody>\n",
       "</table>\n",
       "</div>"
      ],
      "text/plain": [
       "    pixels  howmany\n",
       "0        1   581750\n",
       "1        2   248431\n",
       "2        3   143250\n",
       "3        4    95541\n",
       "4        5    70836\n",
       "5        6    55585\n",
       "6        7    45936\n",
       "7        8    40126\n",
       "8        9    36012\n",
       "9       10    31978\n",
       "10      11    28210\n",
       "11      12    21379\n",
       "12      13    14282\n",
       "13      14     9775\n",
       "14      15     7152\n",
       "15      16     4965\n",
       "16      17     3291\n",
       "17      18     1922\n",
       "18      19      958\n",
       "19      20      410\n",
       "20      21      140\n",
       "21      22       35\n",
       "22      23        9\n",
       "23      26        1\n",
       "24      24        1\n",
       "25      25        1\n",
       "26      30        1"
      ]
     },
     "execution_count": 45,
     "metadata": {},
     "output_type": "execute_result"
    }
   ],
   "source": [
    "pix_usr = df[\"user_id\"].value_counts().to_frame('pixels').reset_index()\n",
    "# We really only need the counts now\n",
    "pix_usr = pix_usr.drop([\"index\"], 1)\n",
    "# We will use pix_usr later on\n",
    "pix_usr_count = pix_usr[\"pixels\"].value_counts().rename_axis('pixels').to_frame('howmany').reset_index()\n",
    "pix_usr_count"
   ]
  },
  {
   "cell_type": "code",
   "execution_count": 48,
   "metadata": {},
   "outputs": [
    {
     "data": {
      "image/png": "[encoded data removed]",
      "text/plain": [
       "<Figure size 1440x720 with 1 Axes>"
      ]
     },
     "metadata": {},
     "output_type": "display_data"
    }
   ],
   "source": [
    "fig, ax = plt.subplots(figsize=figsize)\n",
    "ax.set_yscale('log')\n",
    "ax.set_ylabel('user count')\n",
    "ax.set_xlabel('tiles placed')\n",
    "ax.set_title('Number of users who placed x many pixels')\n",
    "ax.hist(pix_usr['pixels'])\n",
    "fig.savefig(\"./plots/tiles_per_user.pdf\")"
   ]
  },
  {
   "cell_type": "code",
   "execution_count": 40,
   "metadata": {},
   "outputs": [
    {
     "data": {
      "text/html": [
       "<div>\n",
       "<style scoped>\n",
       "    .dataframe tbody tr th:only-of-type {\n",
       "        vertical-align: middle;\n",
       "    }\n",
       "\n",
       "    .dataframe tbody tr th {\n",
       "        vertical-align: top;\n",
       "    }\n",
       "\n",
       "    .dataframe thead th {\n",
       "        text-align: right;\n",
       "    }\n",
       "</style>\n",
       "<table border=\"1\" class=\"dataframe\">\n",
       "  <thead>\n",
       "    <tr style=\"text-align: right;\">\n",
       "      <th></th>\n",
       "      <th>pixels</th>\n",
       "    </tr>\n",
       "  </thead>\n",
       "  <tbody>\n",
       "    <tr>\n",
       "      <th>1</th>\n",
       "      <td>30</td>\n",
       "    </tr>\n",
       "    <tr>\n",
       "      <th>2</th>\n",
       "      <td>26</td>\n",
       "    </tr>\n",
       "    <tr>\n",
       "      <th>3</th>\n",
       "      <td>25</td>\n",
       "    </tr>\n",
       "    <tr>\n",
       "      <th>4</th>\n",
       "      <td>24</td>\n",
       "    </tr>\n",
       "    <tr>\n",
       "      <th>5</th>\n",
       "      <td>23</td>\n",
       "    </tr>\n",
       "    <tr>\n",
       "      <th>6</th>\n",
       "      <td>23</td>\n",
       "    </tr>\n",
       "    <tr>\n",
       "      <th>7</th>\n",
       "      <td>23</td>\n",
       "    </tr>\n",
       "    <tr>\n",
       "      <th>8</th>\n",
       "      <td>23</td>\n",
       "    </tr>\n",
       "    <tr>\n",
       "      <th>9</th>\n",
       "      <td>23</td>\n",
       "    </tr>\n",
       "    <tr>\n",
       "      <th>10</th>\n",
       "      <td>23</td>\n",
       "    </tr>\n",
       "  </tbody>\n",
       "</table>\n",
       "</div>"
      ],
      "text/plain": [
       "    pixels\n",
       "1       30\n",
       "2       26\n",
       "3       25\n",
       "4       24\n",
       "5       23\n",
       "6       23\n",
       "7       23\n",
       "8       23\n",
       "9       23\n",
       "10      23"
      ]
     },
     "execution_count": 40,
     "metadata": {},
     "output_type": "execute_result"
    }
   ],
   "source": [
    "pix_usr = pix_usr[:10]\n",
    "pix_usr.index += 1\n",
    "pix_usr"
   ]
  },
  {
   "cell_type": "code",
   "execution_count": 42,
   "metadata": {},
   "outputs": [
    {
     "data": {
      "image/png": "[encoded data removed]",
      "text/plain": [
       "<Figure size 1440x720 with 1 Axes>"
      ]
     },
     "metadata": {},
     "output_type": "display_data"
    }
   ],
   "source": [
    "fig, ax = plt.subplots(figsize=figsize)\n",
    "ax.set_ylabel('tiles placed')\n",
    "ax.set_title('Pixels placed per user [Top 10]')\n",
    "bars = ax.bar(['#'+str(i) for i in pix_usr.index], pix_usr['pixels'])\n",
    "ax.bar_label(bars)\n",
    "ax.set_ylim(ymin=min(pix_usr['pixels']-1))\n",
    "fig.savefig('./plots/top10_tiles_per_user.pdf')"
   ]
  }
 ],
 "metadata": {
  "interpreter": {
   "hash": "3d2746e606a9a4b385292db00c6aa8c87c106310f465ba9bdb19234f3aa75d03"
  },
  "kernelspec": {
   "display_name": "Python 3.10.1 64-bit",
   "language": "python",
   "name": "python3"
  },
  "language_info": {
   "codemirror_mode": {
    "name": "ipython",
    "version": 3
   },
   "file_extension": ".py",
   "mimetype": "text/x-python",
   "name": "python",
   "nbconvert_exporter": "python",
   "pygments_lexer": "ipython3",
   "version": "3.9.7"
  },
  "orig_nbformat": 4
 },
 "nbformat": 4,
 "nbformat_minor": 2
}
