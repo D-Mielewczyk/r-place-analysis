{
 "cells": [
  {
   "cell_type": "code",
   "execution_count": 1,
   "metadata": {},
   "outputs": [
    {
     "data": {
      "text/html": [
       "<div>\n",
       "<style scoped>\n",
       "    .dataframe tbody tr th:only-of-type {\n",
       "        vertical-align: middle;\n",
       "    }\n",
       "\n",
       "    .dataframe tbody tr th {\n",
       "        vertical-align: top;\n",
       "    }\n",
       "\n",
       "    .dataframe thead th {\n",
       "        text-align: right;\n",
       "    }\n",
       "</style>\n",
       "<table border=\"1\" class=\"dataframe\">\n",
       "  <thead>\n",
       "    <tr style=\"text-align: right;\">\n",
       "      <th></th>\n",
       "      <th>timestamp</th>\n",
       "      <th>user_id</th>\n",
       "      <th>pixel_color</th>\n",
       "      <th>coordinate</th>\n",
       "    </tr>\n",
       "  </thead>\n",
       "  <tbody>\n",
       "    <tr>\n",
       "      <th>0</th>\n",
       "      <td>2022-04-04 19:08:15.281 UTC</td>\n",
       "      <td>0kazlFYGAJrUI8smuJTXB02u3Wn2rNB6Tjwv5uGox5PppZ...</td>\n",
       "      <td>#00756F</td>\n",
       "      <td>1567,1709</td>\n",
       "    </tr>\n",
       "    <tr>\n",
       "      <th>1</th>\n",
       "      <td>2022-04-04 19:14:48.3 UTC</td>\n",
       "      <td>dInHfrbN/eCIf5d4SgKffDsPkkcDx5y7FMZUhNF3AxLxBM...</td>\n",
       "      <td>#E4ABFF</td>\n",
       "      <td>497,1047</td>\n",
       "    </tr>\n",
       "    <tr>\n",
       "      <th>2</th>\n",
       "      <td>2022-04-04 19:20:29.263 UTC</td>\n",
       "      <td>ehFWTxePGwU2+4XOMkAzTjwuP7FrXYFcPbwb4E0Ybl6WkU...</td>\n",
       "      <td>#00756F</td>\n",
       "      <td>1073,206</td>\n",
       "    </tr>\n",
       "    <tr>\n",
       "      <th>3</th>\n",
       "      <td>2022-04-04 19:16:20.045 UTC</td>\n",
       "      <td>/x1yniuHmKC40559IcGigdnQ/cFp6zefymeA4l/PuD1WEY...</td>\n",
       "      <td>#E4ABFF</td>\n",
       "      <td>207,1952</td>\n",
       "    </tr>\n",
       "    <tr>\n",
       "      <th>4</th>\n",
       "      <td>2022-04-04 19:23:11.92 UTC</td>\n",
       "      <td>Yr8XPj5T02icuTX7tgutjtje4u7lx1kOJkMr6SbdH6Th/w...</td>\n",
       "      <td>#E4ABFF</td>\n",
       "      <td>328,1827</td>\n",
       "    </tr>\n",
       "  </tbody>\n",
       "</table>\n",
       "</div>"
      ],
      "text/plain": [
       "                     timestamp  \\\n",
       "0  2022-04-04 19:08:15.281 UTC   \n",
       "1    2022-04-04 19:14:48.3 UTC   \n",
       "2  2022-04-04 19:20:29.263 UTC   \n",
       "3  2022-04-04 19:16:20.045 UTC   \n",
       "4   2022-04-04 19:23:11.92 UTC   \n",
       "\n",
       "                                             user_id pixel_color coordinate  \n",
       "0  0kazlFYGAJrUI8smuJTXB02u3Wn2rNB6Tjwv5uGox5PppZ...     #00756F  1567,1709  \n",
       "1  dInHfrbN/eCIf5d4SgKffDsPkkcDx5y7FMZUhNF3AxLxBM...     #E4ABFF   497,1047  \n",
       "2  ehFWTxePGwU2+4XOMkAzTjwuP7FrXYFcPbwb4E0Ybl6WkU...     #00756F   1073,206  \n",
       "3  /x1yniuHmKC40559IcGigdnQ/cFp6zefymeA4l/PuD1WEY...     #E4ABFF   207,1952  \n",
       "4  Yr8XPj5T02icuTX7tgutjtje4u7lx1kOJkMr6SbdH6Th/w...     #E4ABFF   328,1827  "
      ]
     },
     "execution_count": 1,
     "metadata": {},
     "output_type": "execute_result"
    }
   ],
   "source": [
    "import pandas as pd\n",
    "import numpy as np\n",
    "import datetime\n",
    "\n",
    "import dask\n",
    "import dask.dataframe as dd\n",
    "\n",
    "dfs = []\n",
    "# Data is split into 79 files, modify the range if you don't want to use all files.\n",
    "for i in range(5, 6):\n",
    "    if i < 10:\n",
    "        i = f\"0{i}\"\n",
    "    df = dd.read_csv(f\"data/2022_place_canvas_history-0000000000{i}.csv.gzip\",\n",
    "                                    compression=\"gzip\", blocksize=None)#, parse_dates = [\"timestamp\"])\n",
    "    dfs.append(df)\n",
    "df = dd.concat(dfs)\n",
    "del dfs\n",
    "df.head()"
   ]
  },
  {
   "cell_type": "markdown",
   "metadata": {},
   "source": [
    "Pandas have a built-in data parser but in my experience, it is super slow (in this example it was about 7 times slower)."
   ]
  },
  {
   "cell_type": "code",
   "execution_count": 2,
   "metadata": {},
   "outputs": [],
   "source": [
    "def parse_date(date):\n",
    "    try:\n",
    "        return datetime.datetime.strptime(date.strip(\" UTC\"), '%Y-%m-%d %H:%M:%S.%f')\n",
    "    except ValueError:\n",
    "        return datetime.datetime.strptime(date.strip(\" UTC\"), '%Y-%m-%d %H:%M:%S')\n",
    "\n",
    "df['timestamp'] = df['timestamp'].map(lambda x: parse_date(x), meta = ('timestamp', 'datetime64[ns]'))"
   ]
  },
  {
   "cell_type": "markdown",
   "metadata": {},
   "source": [
    "Those cells are split to easily see the **runtime** of the **data parser**."
   ]
  },
  {
   "cell_type": "code",
   "execution_count": 3,
   "metadata": {},
   "outputs": [
    {
     "data": {
      "text/plain": [
       "timestamp      datetime64[ns]\n",
       "user_id                string\n",
       "pixel_color            string\n",
       "coordinate            float64\n",
       "dtype: object"
      ]
     },
     "execution_count": 3,
     "metadata": {},
     "output_type": "execute_result"
    }
   ],
   "source": [
    "df['user_id'] = df['user_id'].astype('string')\n",
    "df['pixel_color'] = df['pixel_color'].astype('string')\n",
    "\n",
    "def parse_cord(cord):\n",
    "    try:\n",
    "        return float(cord.replace(\",\", \".\"))\n",
    "    except ValueError:\n",
    "        # Mods sometimes used the rectangle tool to censor NSFW, in those cases cords look like this (x1,y1,x2,y2).\n",
    "        # With the code below we can get a tuple with opposite rectangle corners, but I didn't need that data.\n",
    "        ###\n",
    "        # cords = cord.split('.')\n",
    "        # return (float(cord[0]+'.'+cord[1]), float(cord[2]+'.'+cord[3]))\n",
    "        ###\n",
    "        return np.NaN\n",
    "\n",
    "\n",
    "df[\"coordinate\"] = df[\"coordinate\"].map(lambda x: parse_cord(x), meta = (\"coordinate\", float))\n",
    "df.dropna(how=\"any\")\n",
    "\n",
    "df.dtypes"
   ]
  },
  {
   "cell_type": "markdown",
   "metadata": {},
   "source": [
    "### Prepare matplotlib\n",
    "Each analysis will be split into three parts:\n",
    "1. Description\n",
    "2. Data editing\n",
    "3. Ploting"
   ]
  },
  {
   "cell_type": "code",
   "execution_count": 4,
   "metadata": {},
   "outputs": [],
   "source": [
    "import matplotlib.pyplot as plt\n",
    "\n",
    "plt.style.use('dark_background')\n",
    "figsize = (20, 10)"
   ]
  },
  {
   "cell_type": "markdown",
   "metadata": {},
   "source": [
    "#### Pixels per color\n",
    "We are getting **number of pixels** placed depending on **color** of the **pixel**."
   ]
  },
  {
   "cell_type": "code",
   "execution_count": 5,
   "metadata": {},
   "outputs": [
    {
     "data": {
      "text/html": [
       "<div>\n",
       "<style scoped>\n",
       "    .dataframe tbody tr th:only-of-type {\n",
       "        vertical-align: middle;\n",
       "    }\n",
       "\n",
       "    .dataframe tbody tr th {\n",
       "        vertical-align: top;\n",
       "    }\n",
       "\n",
       "    .dataframe thead th {\n",
       "        text-align: right;\n",
       "    }\n",
       "</style>\n",
       "<table border=\"1\" class=\"dataframe\">\n",
       "  <thead>\n",
       "    <tr style=\"text-align: right;\">\n",
       "      <th></th>\n",
       "      <th>pixel_color</th>\n",
       "      <th>counts</th>\n",
       "    </tr>\n",
       "  </thead>\n",
       "  <tbody>\n",
       "    <tr>\n",
       "      <th>0</th>\n",
       "      <td>#FFFFFF</td>\n",
       "      <td>500298</td>\n",
       "    </tr>\n",
       "    <tr>\n",
       "      <th>1</th>\n",
       "      <td>#000000</td>\n",
       "      <td>386702</td>\n",
       "    </tr>\n",
       "    <tr>\n",
       "      <th>2</th>\n",
       "      <td>#7EED56</td>\n",
       "      <td>109904</td>\n",
       "    </tr>\n",
       "    <tr>\n",
       "      <th>3</th>\n",
       "      <td>#FF4500</td>\n",
       "      <td>103850</td>\n",
       "    </tr>\n",
       "    <tr>\n",
       "      <th>4</th>\n",
       "      <td>#2450A4</td>\n",
       "      <td>79940</td>\n",
       "    </tr>\n",
       "  </tbody>\n",
       "</table>\n",
       "</div>"
      ],
      "text/plain": [
       "  pixel_color  counts\n",
       "0     #FFFFFF  500298\n",
       "1     #000000  386702\n",
       "2     #7EED56  109904\n",
       "3     #FF4500  103850\n",
       "4     #2450A4   79940"
      ]
     },
     "execution_count": 5,
     "metadata": {},
     "output_type": "execute_result"
    }
   ],
   "source": [
    "colors = df[\"pixel_color\"].value_counts().to_frame('counts').reset_index()\n",
    "colors = colors.rename(columns={'index': 'pixel_color', 'counts': 'counts'}).compute()\n",
    "colors.head()"
   ]
  },
  {
   "cell_type": "code",
   "execution_count": 6,
   "metadata": {},
   "outputs": [
    {
     "data": {
      "image/png": "[encoded data removed]",
      "text/plain": [
       "<Figure size 1440x720 with 1 Axes>"
      ]
     },
     "metadata": {
      "needs_background": "dark"
     },
     "output_type": "display_data"
    }
   ],
   "source": [
    "fig, ax = plt.subplots(figsize=figsize)\n",
    "ax.bar(colors[\"pixel_color\"], colors[\"counts\"], color=colors[\"pixel_color\"], edgecolor=\"#FFFFFF\")\n",
    "ax.set_title('Pixels placed per color')\n",
    "ax.set_xlabel('color [hex]')\n",
    "ax.set_ylabel('pixels placed')\n",
    "plt.xticks(rotation=90)\n",
    "fig.savefig('./plots/color_counts.pdf')"
   ]
  },
  {
   "cell_type": "markdown",
   "metadata": {},
   "source": [
    "#### Max pixels placed per user based on color\n",
    "Same thing as above but we are getting **maximum** number of **pixels** placed by **one user** based on **color**."
   ]
  },
  {
   "cell_type": "code",
   "execution_count": 7,
   "metadata": {},
   "outputs": [],
   "source": [
    "colors = df.iloc[:, 1:3]\n",
    "colors['count'] = 1\n",
    "colors = colors.compute()\n",
    "colors = pd.pivot_table(colors, values='count', index='user_id', columns='pixel_color', aggfunc='count')\n",
    "\n",
    "color_user = pd.DataFrame(columns=[\"pixel_color\", \"user_max\"])\n",
    "for name, column in colors.items():\n",
    "    temp = pd.DataFrame({\"pixel_color\": [name], \"user_max\": [column.max()]})\n",
    "    color_user = pd.concat([color_user, temp], ignore_index = True)\n",
    "del colors\n",
    "color_user.sort_values(by='user_max', ascending = False, inplace=True)"
   ]
  },
  {
   "cell_type": "code",
   "execution_count": 8,
   "metadata": {},
   "outputs": [
    {
     "data": {
      "image/png": "[encoded data removed]",
      "text/plain": [
       "<Figure size 1440x720 with 1 Axes>"
      ]
     },
     "metadata": {
      "needs_background": "dark"
     },
     "output_type": "display_data"
    }
   ],
   "source": [
    "fig, ax = plt.subplots(figsize=figsize)\n",
    "bars = ax.bar(color_user[\"pixel_color\"], color_user[\"user_max\"], color=color_user[\"pixel_color\"], edgecolor=\"#FFFFFF\")\n",
    "ax.bar_label(bars)\n",
    "ax.set_title('Max pixels placed per one user based on color')\n",
    "ax.set_xlabel('color [hex]')\n",
    "ax.set_ylabel('pixels placed')\n",
    "plt.xticks(rotation=90)\n",
    "fig.savefig('./plots/color_user_counts.pdf')\n",
    "del color_user"
   ]
  },
  {
   "cell_type": "markdown",
   "metadata": {},
   "source": [
    "#### Distribution of people who placed *x* many pixels."
   ]
  },
  {
   "cell_type": "code",
   "execution_count": 13,
   "metadata": {},
   "outputs": [
    {
     "data": {
      "text/html": [
       "<div>\n",
       "<style scoped>\n",
       "    .dataframe tbody tr th:only-of-type {\n",
       "        vertical-align: middle;\n",
       "    }\n",
       "\n",
       "    .dataframe tbody tr th {\n",
       "        vertical-align: top;\n",
       "    }\n",
       "\n",
       "    .dataframe thead th {\n",
       "        text-align: right;\n",
       "    }\n",
       "</style>\n",
       "<table border=\"1\" class=\"dataframe\">\n",
       "  <thead>\n",
       "    <tr style=\"text-align: right;\">\n",
       "      <th></th>\n",
       "      <th>howmany</th>\n",
       "    </tr>\n",
       "  </thead>\n",
       "  <tbody>\n",
       "    <tr>\n",
       "      <th>1</th>\n",
       "      <td>491814</td>\n",
       "    </tr>\n",
       "    <tr>\n",
       "      <th>2</th>\n",
       "      <td>219972</td>\n",
       "    </tr>\n",
       "    <tr>\n",
       "      <th>3</th>\n",
       "      <td>143744</td>\n",
       "    </tr>\n",
       "    <tr>\n",
       "      <th>4</th>\n",
       "      <td>92621</td>\n",
       "    </tr>\n",
       "    <tr>\n",
       "      <th>5</th>\n",
       "      <td>22952</td>\n",
       "    </tr>\n",
       "  </tbody>\n",
       "</table>\n",
       "</div>"
      ],
      "text/plain": [
       "   howmany\n",
       "1   491814\n",
       "2   219972\n",
       "3   143744\n",
       "4    92621\n",
       "5    22952"
      ]
     },
     "execution_count": 13,
     "metadata": {},
     "output_type": "execute_result"
    }
   ],
   "source": [
    "pix_usr = df[\"user_id\"].value_counts().to_frame('pixels').reset_index(drop=True)\n",
    "# We will use pix_usr later on\n",
    "pix_usr_count = pix_usr[\"pixels\"].value_counts().to_frame('howmany').compute()\n",
    "pix_usr_count.head()"
   ]
  },
  {
   "cell_type": "code",
   "execution_count": 14,
   "metadata": {},
   "outputs": [
    {
     "data": {
      "image/png": "[encoded data removed]",
      "text/plain": [
       "<Figure size 1440x720 with 1 Axes>"
      ]
     },
     "metadata": {
      "needs_background": "dark"
     },
     "output_type": "display_data"
    }
   ],
   "source": [
    "fig, ax = plt.subplots(figsize=figsize)\n",
    "ax.set_yscale('log')\n",
    "ax.set_ylabel('user count')\n",
    "ax.set_xlabel('tiles placed')\n",
    "ax.set_title('Number of users who placed x many pixels')\n",
    "ax.hist(pix_usr_count['howmany'])\n",
    "fig.savefig(\"./plots/tiles_per_user.pdf\")\n",
    "del pix_usr_count"
   ]
  },
  {
   "cell_type": "markdown",
   "metadata": {},
   "source": [
    "#### Top 10 users with maximum pixels placed"
   ]
  },
  {
   "cell_type": "code",
   "execution_count": null,
   "metadata": {},
   "outputs": [],
   "source": [
    "pix_usr = pix_usr.compute()\n",
    "pix_usr = pix_usr[:10]\n",
    "pix_usr.index += 1"
   ]
  },
  {
   "cell_type": "code",
   "execution_count": null,
   "metadata": {},
   "outputs": [],
   "source": [
    "del dfs"
   ]
  },
  {
   "cell_type": "code",
   "execution_count": null,
   "metadata": {},
   "outputs": [],
   "source": [
    "fig, ax = plt.subplots(figsize=figsize)\n",
    "ax.set_ylabel('tiles placed')\n",
    "ax.set_title('Pixels placed per user [Top 10]')\n",
    "bars = ax.bar(['#'+str(i) for i in pix_usr.index], pix_usr['pixels'])\n",
    "ax.bar_label(bars)\n",
    "ax.set_ylim(ymin=min(pix_usr['pixels']-1))\n",
    "fig.savefig('./plots/top10_tiles_per_user.pdf')\n",
    "del pix_usr"
   ]
  },
  {
   "cell_type": "markdown",
   "metadata": {},
   "source": [
    "#### Heatmap of pixels\n",
    "really sketchy but i spend like 7 hours on this plot"
   ]
  },
  {
   "cell_type": "code",
   "execution_count": null,
   "metadata": {},
   "outputs": [],
   "source": [
    "def parse_cords(cord: float, hmap):\n",
    "    cord = str(cord).split(\".\")\n",
    "    hmap[int(cord[0])][int(cord[1])] += 1"
   ]
  },
  {
   "cell_type": "code",
   "execution_count": null,
   "metadata": {},
   "outputs": [],
   "source": [
    "# Creating an array of pixel occurrences\n",
    "h_map = np.zeros((2000, 2000), dtype='int')\n",
    "cords = df[\"coordinate\"].map(lambda cord: parse_cords(cord, h_map))\n",
    "print(h_map)"
   ]
  },
  {
   "cell_type": "code",
   "execution_count": null,
   "metadata": {},
   "outputs": [],
   "source": [
    "fig, ax = plt.subplots(figsize=(18.2, 15))\n",
    "ax = plt.imshow(h_map, interpolation='none', aspect='auto', vmax = 100)\n",
    "plt.colorbar()\n",
    "fig.savefig('./plots/pixels_heatmap.pdf')\n",
    "del h_map"
   ]
  },
  {
   "cell_type": "markdown",
   "metadata": {},
   "source": [
    "#### Activity based on time of the day\n",
    "How many **pixels** were **placed** based on **hour** of the day [UTC]."
   ]
  },
  {
   "cell_type": "code",
   "execution_count": null,
   "metadata": {},
   "outputs": [],
   "source": [
    "hourly = df[\"timestamp\"].compute()\n",
    "hourly.dt.strftime('%H')\n",
    "hourly = hourly.value_counts().rename_axis(\"hour\").to_frame(\"counts\").sort_index()\n",
    "hourly"
   ]
  },
  {
   "cell_type": "code",
   "execution_count": null,
   "metadata": {},
   "outputs": [],
   "source": [
    "fig, ax = plt.subplots(figsize=figsize)\n",
    "ax.bar(hourly.index.values, hourly[\"counts\"])\n",
    "ax.set_title('Pixels placed based on time of the day [UTC]')\n",
    "ax.set_xlabel('hour of the day')\n",
    "ax.set_ylabel('pixels placed')\n",
    "fig.savefig('./plots/hourly_activity.pdf')\n",
    "del hourly"
   ]
  },
  {
   "cell_type": "markdown",
   "metadata": {},
   "source": [
    "#### Activity based the day\n",
    "How many **pixels** were **placed** based on the **day**."
   ]
  },
  {
   "cell_type": "code",
   "execution_count": null,
   "metadata": {},
   "outputs": [],
   "source": [
    "daily = df[\"timestamp\"].compute()\n",
    "daily.dt.strftime('%m-%d')\n",
    "daily = daily.value_counts().rename_axis(\"day\").to_frame(\"counts\").sort_index()\n",
    "daily"
   ]
  },
  {
   "cell_type": "code",
   "execution_count": null,
   "metadata": {},
   "outputs": [],
   "source": [
    "fig, ax = plt.subplots(figsize=figsize)\n",
    "ax.bar(daily.index.values, daily[\"counts\"])\n",
    "ax.set_title('Pixels placed based on the day')\n",
    "ax.set_xlabel('date')\n",
    "ax.set_ylabel('pixels placed')\n",
    "fig.savefig('./plots/daily_activity.pdf')"
   ]
  }
 ],
 "metadata": {
  "interpreter": {
   "hash": "552d8f854a550783d347207e80445871d6743b3b728b4e6a6e53a767838deb39"
  },
  "kernelspec": {
   "display_name": "Python 3.10.5 ('r-place-venv': venv)",
   "language": "python",
   "name": "python3"
  },
  "language_info": {
   "codemirror_mode": {
    "name": "ipython",
    "version": 3
   },
   "file_extension": ".py",
   "mimetype": "text/x-python",
   "name": "python",
   "nbconvert_exporter": "python",
   "pygments_lexer": "ipython3",
   "version": "3.10.5"
  },
  "orig_nbformat": 4
 },
 "nbformat": 4,
 "nbformat_minor": 2
}
