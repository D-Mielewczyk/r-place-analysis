{
 "cells": [
  {
   "cell_type": "code",
   "execution_count": 1,
   "metadata": {
    "collapsed": false,
    "pycharm": {
     "name": "#%%\n"
    }
   },
   "outputs": [
    {
     "data": {
      "text/html": [
       "<div>\n",
       "<style scoped>\n",
       "    .dataframe tbody tr th:only-of-type {\n",
       "        vertical-align: middle;\n",
       "    }\n",
       "\n",
       "    .dataframe tbody tr th {\n",
       "        vertical-align: top;\n",
       "    }\n",
       "\n",
       "    .dataframe thead th {\n",
       "        text-align: right;\n",
       "    }\n",
       "</style>\n",
       "<table border=\"1\" class=\"dataframe\">\n",
       "  <thead>\n",
       "    <tr style=\"text-align: right;\">\n",
       "      <th></th>\n",
       "      <th>timestamp</th>\n",
       "      <th>user_id</th>\n",
       "      <th>pixel_color</th>\n",
       "      <th>coordinate</th>\n",
       "    </tr>\n",
       "  </thead>\n",
       "  <tbody>\n",
       "    <tr>\n",
       "      <th>0</th>\n",
       "      <td>2022-04-04 00:53:51.577 UTC</td>\n",
       "      <td>ovTZk4GyTS1mDQnTbV+vDOCu1f+u6w+CkIZ6445vD4XN8a...</td>\n",
       "      <td>#00CCC0</td>\n",
       "      <td>826,1048</td>\n",
       "    </tr>\n",
       "    <tr>\n",
       "      <th>1</th>\n",
       "      <td>2022-04-04 00:53:53.758 UTC</td>\n",
       "      <td>6NSgFa1CvIPly1VniNhlbrmoN3vgDFbMSKqh+c4TTfrr3d...</td>\n",
       "      <td>#94B3FF</td>\n",
       "      <td>583,1031</td>\n",
       "    </tr>\n",
       "    <tr>\n",
       "      <th>2</th>\n",
       "      <td>2022-04-04 00:53:54.685 UTC</td>\n",
       "      <td>O5Oityp3Z3owzTuwM9XnMggpLcqKEumsOMKGhRiDTTImWb...</td>\n",
       "      <td>#6A5CFF</td>\n",
       "      <td>1873,558</td>\n",
       "    </tr>\n",
       "    <tr>\n",
       "      <th>3</th>\n",
       "      <td>2022-04-04 00:54:57.541 UTC</td>\n",
       "      <td>tc273UiqS0wKa6VwiOs/iz/t4LyPYrhL2Q347awn11IQQE...</td>\n",
       "      <td>#009EAA</td>\n",
       "      <td>1627,255</td>\n",
       "    </tr>\n",
       "    <tr>\n",
       "      <th>4</th>\n",
       "      <td>2022-04-04 00:55:16.307 UTC</td>\n",
       "      <td>OOWsU/HLb4UUkQwclDeXFtsJTOXMlAdNHiRpFA1Qk+SxUr...</td>\n",
       "      <td>#94B3FF</td>\n",
       "      <td>49,1478</td>\n",
       "    </tr>\n",
       "  </tbody>\n",
       "</table>\n",
       "</div>"
      ],
      "text/plain": [
       "                     timestamp  \\\n",
       "0  2022-04-04 00:53:51.577 UTC   \n",
       "1  2022-04-04 00:53:53.758 UTC   \n",
       "2  2022-04-04 00:53:54.685 UTC   \n",
       "3  2022-04-04 00:54:57.541 UTC   \n",
       "4  2022-04-04 00:55:16.307 UTC   \n",
       "\n",
       "                                             user_id pixel_color coordinate  \n",
       "0  ovTZk4GyTS1mDQnTbV+vDOCu1f+u6w+CkIZ6445vD4XN8a...     #00CCC0   826,1048  \n",
       "1  6NSgFa1CvIPly1VniNhlbrmoN3vgDFbMSKqh+c4TTfrr3d...     #94B3FF   583,1031  \n",
       "2  O5Oityp3Z3owzTuwM9XnMggpLcqKEumsOMKGhRiDTTImWb...     #6A5CFF   1873,558  \n",
       "3  tc273UiqS0wKa6VwiOs/iz/t4LyPYrhL2Q347awn11IQQE...     #009EAA   1627,255  \n",
       "4  OOWsU/HLb4UUkQwclDeXFtsJTOXMlAdNHiRpFA1Qk+SxUr...     #94B3FF    49,1478  "
      ]
     },
     "execution_count": 1,
     "metadata": {},
     "output_type": "execute_result"
    }
   ],
   "source": [
    "import pandas as pd\n",
    "import numpy as np\n",
    "import datetime\n",
    "\n",
    "import dask\n",
    "import dask.dataframe as dd\n",
    "\n",
    "dfs = []\n",
    "# Data is split into 79 files, modify the range if you don't want to use all files.\n",
    "for i in range(0, 79):\n",
    "    if i < 10:\n",
    "        i = f\"0{i}\"\n",
    "    df = dd.read_csv(f\"data/2022_place_canvas_history-0000000000{i}.csv.gzip\",\n",
    "                                    compression=\"gzip\", blocksize=None)#, parse_dates = [\"timestamp\"])\n",
    "    dfs.append(df)\n",
    "df = dd.concat(dfs)\n",
    "df.head()"
   ]
  },
  {
   "cell_type": "markdown",
   "metadata": {
    "pycharm": {
     "name": "#%% md\n"
    }
   },
   "source": [
    "Pandas have a built-in data parser but in my experience, it is super slow (in this example it was about 7 times slower)."
   ]
  },
  {
   "cell_type": "code",
   "execution_count": 2,
   "metadata": {
    "pycharm": {
     "name": "#%%\n"
    }
   },
   "outputs": [],
   "source": [
    "del dfs"
   ]
  },
  {
   "cell_type": "code",
   "execution_count": 3,
   "metadata": {
    "pycharm": {
     "name": "#%%\n"
    }
   },
   "outputs": [],
   "source": [
    "def parse_date(date):\n",
    "    try:\n",
    "        return datetime.datetime.strptime(date.strip(\" UTC\"), '%Y-%m-%d %H:%M:%S.%f')\n",
    "    except ValueError:\n",
    "        return datetime.datetime.strptime(date.strip(\" UTC\"), '%Y-%m-%d %H:%M:%S')\n",
    "\n",
    "df['timestamp'] = df['timestamp'].map(lambda x: parse_date(x), meta = ('timestamp', 'datetime64[ns]'))"
   ]
  },
  {
   "cell_type": "markdown",
   "metadata": {
    "pycharm": {
     "name": "#%% md\n"
    }
   },
   "source": [
    "Those cells are split to easily see the **runtime** of the **data parser**."
   ]
  },
  {
   "cell_type": "code",
   "execution_count": 4,
   "metadata": {
    "pycharm": {
     "name": "#%%\n"
    }
   },
   "outputs": [
    {
     "data": {
      "text/plain": [
       "timestamp      datetime64[ns]\n",
       "user_id                string\n",
       "pixel_color            string\n",
       "coordinate            float64\n",
       "dtype: object"
      ]
     },
     "execution_count": 4,
     "metadata": {},
     "output_type": "execute_result"
    }
   ],
   "source": [
    "df['user_id'] = df['user_id'].astype('string')\n",
    "df['pixel_color'] = df['pixel_color'].astype('string')\n",
    "\n",
    "def parse_cord(cord):\n",
    "    try:\n",
    "        return float(cord.replace(\",\", \".\"))\n",
    "    except ValueError:\n",
    "        # Mods sometimes used the rectangle tool to censor NSFW, in those cases cords look like this (x1,y1,x2,y2).\n",
    "        # With the code below we can get a tuple with opposite rectangle corners, but I didn't need that data.\n",
    "        ###\n",
    "        # cords = cord.split('.')\n",
    "        # return (float(cord[0]+'.'+cord[1]), float(cord[2]+'.'+cord[3]))\n",
    "        ###\n",
    "        return np.NaN\n",
    "\n",
    "\n",
    "df[\"coordinate\"] = df[\"coordinate\"].map(lambda x: parse_cord(x), meta = (\"coordinate\", float))\n",
    "df.dropna(how=\"any\")\n",
    "\n",
    "df.dtypes"
   ]
  },
  {
   "cell_type": "markdown",
   "metadata": {
    "pycharm": {
     "name": "#%% md\n"
    }
   },
   "source": [
    "### Prepare matplotlib\n",
    "Each analysis will be split into three parts:\n",
    "1. Description\n",
    "2. Data editing\n",
    "3. Ploting"
   ]
  },
  {
   "cell_type": "code",
   "execution_count": 5,
   "metadata": {
    "pycharm": {
     "name": "#%%\n"
    }
   },
   "outputs": [],
   "source": [
    "import matplotlib.pyplot as plt\n",
    "\n",
    "plt.style.use('dark_background')\n",
    "figsize = (20, 10)"
   ]
  },
  {
   "cell_type": "markdown",
   "metadata": {
    "pycharm": {
     "name": "#%% md\n"
    }
   },
   "source": [
    "#### Pixels per color\n",
    "We are getting **number of pixels** placed depending on **color** of the **pixel**."
   ]
  },
  {
   "cell_type": "code",
   "execution_count": 6,
   "metadata": {
    "pycharm": {
     "name": "#%%\n"
    }
   },
   "outputs": [
    {
     "ename": "KeyboardInterrupt",
     "evalue": "",
     "output_type": "error",
     "traceback": [
      "\u001b[1;31m---------------------------------------------------------------------------\u001b[0m",
      "\u001b[1;31mKeyboardInterrupt\u001b[0m                         Traceback (most recent call last)",
      "\u001b[1;32me:\\Projekty (code)\\wieksze projekty\\r-place-analysis\\main.ipynb Komórka 10\u001b[0m in \u001b[0;36m<cell line: 2>\u001b[1;34m()\u001b[0m\n\u001b[0;32m      <a href='vscode-notebook-cell:/e%3A/Projekty%20%28code%29/wieksze%20projekty/r-place-analysis/main.ipynb#ch0000009?line=0'>1</a>\u001b[0m colors \u001b[39m=\u001b[39m df[\u001b[39m\"\u001b[39m\u001b[39mpixel_color\u001b[39m\u001b[39m\"\u001b[39m]\u001b[39m.\u001b[39mvalue_counts()\u001b[39m.\u001b[39mto_frame(\u001b[39m'\u001b[39m\u001b[39mcounts\u001b[39m\u001b[39m'\u001b[39m)\u001b[39m.\u001b[39mreset_index()\n\u001b[1;32m----> <a href='vscode-notebook-cell:/e%3A/Projekty%20%28code%29/wieksze%20projekty/r-place-analysis/main.ipynb#ch0000009?line=1'>2</a>\u001b[0m colors \u001b[39m=\u001b[39m colors\u001b[39m.\u001b[39;49mrename(columns\u001b[39m=\u001b[39;49m{\u001b[39m'\u001b[39;49m\u001b[39mindex\u001b[39;49m\u001b[39m'\u001b[39;49m: \u001b[39m'\u001b[39;49m\u001b[39mpixel_color\u001b[39;49m\u001b[39m'\u001b[39;49m, \u001b[39m'\u001b[39;49m\u001b[39mcounts\u001b[39;49m\u001b[39m'\u001b[39;49m: \u001b[39m'\u001b[39;49m\u001b[39mcounts\u001b[39;49m\u001b[39m'\u001b[39;49m})\u001b[39m.\u001b[39;49mcompute()\n\u001b[0;32m      <a href='vscode-notebook-cell:/e%3A/Projekty%20%28code%29/wieksze%20projekty/r-place-analysis/main.ipynb#ch0000009?line=2'>3</a>\u001b[0m colors\u001b[39m.\u001b[39mhead()\n",
      "File \u001b[1;32me:\\Projekty (code)\\wieksze projekty\\r-place-analysis\\r-place-venv\\lib\\site-packages\\dask\\base.py:315\u001b[0m, in \u001b[0;36mDaskMethodsMixin.compute\u001b[1;34m(self, **kwargs)\u001b[0m\n\u001b[0;32m    291\u001b[0m \u001b[39mdef\u001b[39;00m \u001b[39mcompute\u001b[39m(\u001b[39mself\u001b[39m, \u001b[39m*\u001b[39m\u001b[39m*\u001b[39mkwargs):\n\u001b[0;32m    292\u001b[0m     \u001b[39m\"\"\"Compute this dask collection\u001b[39;00m\n\u001b[0;32m    293\u001b[0m \n\u001b[0;32m    294\u001b[0m \u001b[39m    This turns a lazy Dask collection into its in-memory equivalent.\u001b[39;00m\n\u001b[1;32m   (...)\u001b[0m\n\u001b[0;32m    313\u001b[0m \u001b[39m    dask.base.compute\u001b[39;00m\n\u001b[0;32m    314\u001b[0m \u001b[39m    \"\"\"\u001b[39;00m\n\u001b[1;32m--> 315\u001b[0m     (result,) \u001b[39m=\u001b[39m compute(\u001b[39mself\u001b[39m, traverse\u001b[39m=\u001b[39m\u001b[39mFalse\u001b[39;00m, \u001b[39m*\u001b[39m\u001b[39m*\u001b[39mkwargs)\n\u001b[0;32m    316\u001b[0m     \u001b[39mreturn\u001b[39;00m result\n",
      "File \u001b[1;32me:\\Projekty (code)\\wieksze projekty\\r-place-analysis\\r-place-venv\\lib\\site-packages\\dask\\base.py:603\u001b[0m, in \u001b[0;36mcompute\u001b[1;34m(traverse, optimize_graph, scheduler, get, *args, **kwargs)\u001b[0m\n\u001b[0;32m    600\u001b[0m     keys\u001b[39m.\u001b[39mappend(x\u001b[39m.\u001b[39m__dask_keys__())\n\u001b[0;32m    601\u001b[0m     postcomputes\u001b[39m.\u001b[39mappend(x\u001b[39m.\u001b[39m__dask_postcompute__())\n\u001b[1;32m--> 603\u001b[0m results \u001b[39m=\u001b[39m schedule(dsk, keys, \u001b[39m*\u001b[39m\u001b[39m*\u001b[39mkwargs)\n\u001b[0;32m    604\u001b[0m \u001b[39mreturn\u001b[39;00m repack([f(r, \u001b[39m*\u001b[39ma) \u001b[39mfor\u001b[39;00m r, (f, a) \u001b[39min\u001b[39;00m \u001b[39mzip\u001b[39m(results, postcomputes)])\n",
      "File \u001b[1;32me:\\Projekty (code)\\wieksze projekty\\r-place-analysis\\r-place-venv\\lib\\site-packages\\dask\\threaded.py:89\u001b[0m, in \u001b[0;36mget\u001b[1;34m(dsk, keys, cache, num_workers, pool, **kwargs)\u001b[0m\n\u001b[0;32m     86\u001b[0m     \u001b[39melif\u001b[39;00m \u001b[39misinstance\u001b[39m(pool, multiprocessing\u001b[39m.\u001b[39mpool\u001b[39m.\u001b[39mPool):\n\u001b[0;32m     87\u001b[0m         pool \u001b[39m=\u001b[39m MultiprocessingPoolExecutor(pool)\n\u001b[1;32m---> 89\u001b[0m results \u001b[39m=\u001b[39m get_async(\n\u001b[0;32m     90\u001b[0m     pool\u001b[39m.\u001b[39msubmit,\n\u001b[0;32m     91\u001b[0m     pool\u001b[39m.\u001b[39m_max_workers,\n\u001b[0;32m     92\u001b[0m     dsk,\n\u001b[0;32m     93\u001b[0m     keys,\n\u001b[0;32m     94\u001b[0m     cache\u001b[39m=\u001b[39mcache,\n\u001b[0;32m     95\u001b[0m     get_id\u001b[39m=\u001b[39m_thread_get_id,\n\u001b[0;32m     96\u001b[0m     pack_exception\u001b[39m=\u001b[39mpack_exception,\n\u001b[0;32m     97\u001b[0m     \u001b[39m*\u001b[39m\u001b[39m*\u001b[39mkwargs,\n\u001b[0;32m     98\u001b[0m )\n\u001b[0;32m    100\u001b[0m \u001b[39m# Cleanup pools associated to dead threads\u001b[39;00m\n\u001b[0;32m    101\u001b[0m \u001b[39mwith\u001b[39;00m pools_lock:\n",
      "File \u001b[1;32me:\\Projekty (code)\\wieksze projekty\\r-place-analysis\\r-place-venv\\lib\\site-packages\\dask\\local.py:500\u001b[0m, in \u001b[0;36mget_async\u001b[1;34m(submit, num_workers, dsk, result, cache, get_id, rerun_exceptions_locally, pack_exception, raise_exception, callbacks, dumps, loads, chunksize, **kwargs)\u001b[0m\n\u001b[0;32m    498\u001b[0m \u001b[39mwhile\u001b[39;00m state[\u001b[39m\"\u001b[39m\u001b[39mwaiting\u001b[39m\u001b[39m\"\u001b[39m] \u001b[39mor\u001b[39;00m state[\u001b[39m\"\u001b[39m\u001b[39mready\u001b[39m\u001b[39m\"\u001b[39m] \u001b[39mor\u001b[39;00m state[\u001b[39m\"\u001b[39m\u001b[39mrunning\u001b[39m\u001b[39m\"\u001b[39m]:\n\u001b[0;32m    499\u001b[0m     fire_tasks(chunksize)\n\u001b[1;32m--> 500\u001b[0m     \u001b[39mfor\u001b[39;00m key, res_info, failed \u001b[39min\u001b[39;00m queue_get(queue)\u001b[39m.\u001b[39mresult():\n\u001b[0;32m    501\u001b[0m         \u001b[39mif\u001b[39;00m failed:\n\u001b[0;32m    502\u001b[0m             exc, tb \u001b[39m=\u001b[39m loads(res_info)\n",
      "File \u001b[1;32me:\\Projekty (code)\\wieksze projekty\\r-place-analysis\\r-place-venv\\lib\\site-packages\\dask\\local.py:130\u001b[0m, in \u001b[0;36mqueue_get\u001b[1;34m(q)\u001b[0m\n\u001b[0;32m    128\u001b[0m \u001b[39mwhile\u001b[39;00m \u001b[39mTrue\u001b[39;00m:\n\u001b[0;32m    129\u001b[0m     \u001b[39mtry\u001b[39;00m:\n\u001b[1;32m--> 130\u001b[0m         \u001b[39mreturn\u001b[39;00m q\u001b[39m.\u001b[39;49mget(block\u001b[39m=\u001b[39;49m\u001b[39mTrue\u001b[39;49;00m, timeout\u001b[39m=\u001b[39;49m\u001b[39m0.1\u001b[39;49m)\n\u001b[0;32m    131\u001b[0m     \u001b[39mexcept\u001b[39;00m Empty:\n\u001b[0;32m    132\u001b[0m         \u001b[39mpass\u001b[39;00m\n",
      "File \u001b[1;32m~\\AppData\\Local\\Programs\\Python\\Python310\\lib\\queue.py:180\u001b[0m, in \u001b[0;36mQueue.get\u001b[1;34m(self, block, timeout)\u001b[0m\n\u001b[0;32m    178\u001b[0m         \u001b[39mif\u001b[39;00m remaining \u001b[39m<\u001b[39m\u001b[39m=\u001b[39m \u001b[39m0.0\u001b[39m:\n\u001b[0;32m    179\u001b[0m             \u001b[39mraise\u001b[39;00m Empty\n\u001b[1;32m--> 180\u001b[0m         \u001b[39mself\u001b[39;49m\u001b[39m.\u001b[39;49mnot_empty\u001b[39m.\u001b[39;49mwait(remaining)\n\u001b[0;32m    181\u001b[0m item \u001b[39m=\u001b[39m \u001b[39mself\u001b[39m\u001b[39m.\u001b[39m_get()\n\u001b[0;32m    182\u001b[0m \u001b[39mself\u001b[39m\u001b[39m.\u001b[39mnot_full\u001b[39m.\u001b[39mnotify()\n",
      "File \u001b[1;32m~\\AppData\\Local\\Programs\\Python\\Python310\\lib\\threading.py:324\u001b[0m, in \u001b[0;36mCondition.wait\u001b[1;34m(self, timeout)\u001b[0m\n\u001b[0;32m    322\u001b[0m \u001b[39melse\u001b[39;00m:\n\u001b[0;32m    323\u001b[0m     \u001b[39mif\u001b[39;00m timeout \u001b[39m>\u001b[39m \u001b[39m0\u001b[39m:\n\u001b[1;32m--> 324\u001b[0m         gotit \u001b[39m=\u001b[39m waiter\u001b[39m.\u001b[39;49macquire(\u001b[39mTrue\u001b[39;49;00m, timeout)\n\u001b[0;32m    325\u001b[0m     \u001b[39melse\u001b[39;00m:\n\u001b[0;32m    326\u001b[0m         gotit \u001b[39m=\u001b[39m waiter\u001b[39m.\u001b[39macquire(\u001b[39mFalse\u001b[39;00m)\n",
      "\u001b[1;31mKeyboardInterrupt\u001b[0m: "
     ]
    }
   ],
   "source": [
    "colors = df[\"pixel_color\"].value_counts().to_frame('counts').reset_index()\n",
    "colors = colors.rename(columns={'index': 'pixel_color', 'counts': 'counts'}).compute()\n",
    "colors.head()"
   ]
  },
  {
   "cell_type": "code",
   "execution_count": null,
   "metadata": {
    "pycharm": {
     "name": "#%%\n"
    }
   },
   "outputs": [],
   "source": [
    "fig, ax = plt.subplots(figsize=figsize)\n",
    "ax.bar(colors[\"pixel_color\"], colors[\"counts\"], color=colors[\"pixel_color\"], edgecolor=\"#FFFFFF\")\n",
    "ax.set_title('Pixels placed per color')\n",
    "ax.set_xlabel('color [hex]')\n",
    "ax.set_ylabel('pixels placed')\n",
    "plt.xticks(rotation=90)\n",
    "fig.savefig('./plots/color_counts.pdf')"
   ]
  },
  {
   "cell_type": "markdown",
   "metadata": {
    "pycharm": {
     "name": "#%% md\n"
    }
   },
   "source": [
    "#### Max pixels placed per user based on color\n",
    "Same thing as above but we are getting **maximum** number of **pixels** placed by **one user** based on **color**."
   ]
  },
  {
   "cell_type": "code",
   "execution_count": null,
   "metadata": {
    "pycharm": {
     "name": "#%%\n"
    }
   },
   "outputs": [],
   "source": [
    "colors = df.iloc[:, 1:3]\n",
    "colors['count'] = 1\n",
    "colors = colors.compute()\n",
    "colors = pd.pivot_table(colors, values='count', index='user_id', columns='pixel_color', aggfunc='count')\n",
    "\n",
    "color_user = pd.DataFrame(columns=[\"pixel_color\", \"user_max\"])\n",
    "for name, column in colors.items():\n",
    "    temp = pd.DataFrame({\"pixel_color\": [name], \"user_max\": [column.max()]})\n",
    "    color_user = pd.concat([color_user, temp], ignore_index = True)\n",
    "color_user.sort_values(by='user_max', ascending = False, inplace=True)"
   ]
  },
  {
   "cell_type": "code",
   "execution_count": null,
   "metadata": {
    "pycharm": {
     "name": "#%%\n"
    }
   },
   "outputs": [],
   "source": [
    "del colors"
   ]
  },
  {
   "cell_type": "code",
   "execution_count": null,
   "metadata": {
    "pycharm": {
     "name": "#%%\n"
    }
   },
   "outputs": [],
   "source": [
    "fig, ax = plt.subplots(figsize=figsize)\n",
    "bars = ax.bar(color_user[\"pixel_color\"], color_user[\"user_max\"], color=color_user[\"pixel_color\"], edgecolor=\"#FFFFFF\")\n",
    "ax.bar_label(bars)\n",
    "ax.set_title('Max pixels placed per one user based on color')\n",
    "ax.set_xlabel('color [hex]')\n",
    "ax.set_ylabel('pixels placed')\n",
    "plt.xticks(rotation=90)\n",
    "fig.savefig('./plots/color_user_counts.pdf')"
   ]
  },
  {
   "cell_type": "code",
   "execution_count": null,
   "metadata": {
    "pycharm": {
     "name": "#%%\n"
    }
   },
   "outputs": [],
   "source": [
    "del color_user"
   ]
  },
  {
   "cell_type": "markdown",
   "metadata": {
    "pycharm": {
     "name": "#%% md\n"
    }
   },
   "source": [
    "#### Distribution of people who placed *x* many pixels."
   ]
  },
  {
   "cell_type": "code",
   "execution_count": null,
   "metadata": {
    "pycharm": {
     "name": "#%%\n"
    }
   },
   "outputs": [],
   "source": [
    "pix_usr = df[\"user_id\"].value_counts().to_frame('pixels').reset_index(drop=True)\n",
    "# We will use pix_usr later on\n",
    "pix_usr_count = pix_usr[\"pixels\"].value_counts().to_frame('howmany').compute()\n",
    "pix_usr_count.head()"
   ]
  },
  {
   "cell_type": "code",
   "execution_count": null,
   "metadata": {
    "pycharm": {
     "name": "#%%\n"
    }
   },
   "outputs": [],
   "source": [
    "fig, ax = plt.subplots(figsize=figsize)\n",
    "ax.set_yscale('log')\n",
    "ax.set_ylabel('user count')\n",
    "ax.set_xlabel('tiles placed')\n",
    "ax.set_title('Number of users who placed x many pixels')\n",
    "ax.hist(pix_usr_count['howmany'])\n",
    "fig.savefig(\"./plots/tiles_per_user.pdf\")"
   ]
  },
  {
   "cell_type": "code",
   "execution_count": null,
   "metadata": {
    "pycharm": {
     "name": "#%%\n"
    }
   },
   "outputs": [],
   "source": [
    "del pix_usr_count"
   ]
  },
  {
   "cell_type": "markdown",
   "metadata": {
    "pycharm": {
     "name": "#%% md\n"
    }
   },
   "source": [
    "#### Top 10 users with maximum pixels placed"
   ]
  },
  {
   "cell_type": "code",
   "execution_count": null,
   "metadata": {
    "pycharm": {
     "name": "#%%\n"
    }
   },
   "outputs": [],
   "source": [
    "pix_usr = pix_usr.head(10)\n",
    "pix_usr.index += 1"
   ]
  },
  {
   "cell_type": "code",
   "execution_count": null,
   "metadata": {
    "pycharm": {
     "name": "#%%\n"
    }
   },
   "outputs": [],
   "source": [
    "fig, ax = plt.subplots(figsize=figsize)\n",
    "ax.set_ylabel('tiles placed')\n",
    "ax.set_title('Pixels placed per user [Top 10]')\n",
    "bars = ax.bar(['#'+str(i) for i in pix_usr.index], pix_usr['pixels'])\n",
    "ax.bar_label(bars)\n",
    "ax.set_ylim(ymin=min(pix_usr['pixels']-1))\n",
    "fig.savefig('./plots/top10_tiles_per_user.pdf')"
   ]
  },
  {
   "cell_type": "code",
   "execution_count": null,
   "metadata": {
    "pycharm": {
     "name": "#%%\n"
    }
   },
   "outputs": [],
   "source": [
    "del pix_usr"
   ]
  },
  {
   "cell_type": "markdown",
   "metadata": {
    "pycharm": {
     "name": "#%% md\n"
    }
   },
   "source": [
    "#### Heatmap of pixels\n",
    "really sketchy but i spend like 7 hours on this plot"
   ]
  },
  {
   "cell_type": "code",
   "execution_count": null,
   "metadata": {
    "pycharm": {
     "name": "#%%\n"
    }
   },
   "outputs": [],
   "source": [
    "# Creating an array of pixel occurrences\n",
    "h_map = np.zeros((2000, 2000), dtype='int')\n",
    "for cord in df[\"coordinate\"]:\n",
    "    cord = str(cord).split(\".\")\n",
    "    h_map[int(cord[0])][int(cord[1])] += 1\n",
    "print(h_map)"
   ]
  },
  {
   "cell_type": "code",
   "execution_count": null,
   "metadata": {
    "pycharm": {
     "name": "#%%\n"
    }
   },
   "outputs": [],
   "source": [
    "fig, ax = plt.subplots(figsize=(18.2, 15))\n",
    "ax = plt.imshow(h_map, interpolation='none', aspect='auto', vmax = 100)\n",
    "plt.colorbar()\n",
    "fig.savefig('./plots/pixels_heatmap.pdf')"
   ]
  },
  {
   "cell_type": "code",
   "execution_count": null,
   "metadata": {
    "pycharm": {
     "name": "#%%\n"
    }
   },
   "outputs": [],
   "source": [
    "del h_map"
   ]
  },
  {
   "cell_type": "markdown",
   "metadata": {
    "pycharm": {
     "name": "#%% md\n"
    }
   },
   "source": [
    "#### Activity based on time of the day\n",
    "How many **pixels** were **placed** based on **hour** of the day [UTC]."
   ]
  },
  {
   "cell_type": "code",
   "execution_count": null,
   "metadata": {
    "pycharm": {
     "name": "#%%\n"
    }
   },
   "outputs": [],
   "source": [
    "hourly = df[\"timestamp\"].compute()\n",
    "hourly = hourly.dt.strftime('%H')\n",
    "hourly = hourly.value_counts().rename_axis(\"hour\").to_frame(\"counts\").sort_index()\n",
    "hourly"
   ]
  },
  {
   "cell_type": "code",
   "execution_count": null,
   "metadata": {
    "pycharm": {
     "name": "#%%\n"
    }
   },
   "outputs": [],
   "source": [
    "fig, ax = plt.subplots(figsize=figsize)\n",
    "ax.bar(hourly.index.values, hourly[\"counts\"])\n",
    "ax.set_title('Pixels placed based on time of the day [UTC]')\n",
    "ax.set_xlabel('hour of the day')\n",
    "ax.set_ylabel('pixels placed')\n",
    "fig.savefig('./plots/hourly_activity.pdf')"
   ]
  },
  {
   "cell_type": "code",
   "execution_count": null,
   "metadata": {
    "pycharm": {
     "name": "#%%\n"
    }
   },
   "outputs": [],
   "source": [
    "del hourly"
   ]
  },
  {
   "cell_type": "markdown",
   "metadata": {
    "pycharm": {
     "name": "#%% md\n"
    }
   },
   "source": [
    "#### Activity based the day\n",
    "How many **pixels** were **placed** based on the **day**."
   ]
  },
  {
   "cell_type": "code",
   "execution_count": null,
   "metadata": {
    "pycharm": {
     "name": "#%%\n"
    }
   },
   "outputs": [],
   "source": [
    "daily = df[\"timestamp\"].compute()\n",
    "daily = daily.dt.strftime('%m-%d')\n",
    "daily = daily.value_counts().rename_axis(\"day\").to_frame(\"counts\").sort_index()\n",
    "daily"
   ]
  },
  {
   "cell_type": "code",
   "execution_count": null,
   "metadata": {
    "pycharm": {
     "name": "#%%\n"
    }
   },
   "outputs": [],
   "source": [
    "fig, ax = plt.subplots(figsize=figsize)\n",
    "ax.bar(daily.index.values, daily[\"counts\"])\n",
    "ax.set_title('Pixels placed based on the day')\n",
    "ax.set_xlabel('date')\n",
    "ax.set_ylabel('pixels placed')\n",
    "fig.savefig('./plots/daily_activity.pdf')"
   ]
  },
  {
   "cell_type": "code",
   "execution_count": null,
   "metadata": {
    "pycharm": {
     "name": "#%%\n"
    }
   },
   "outputs": [],
   "source": [
    "del daily"
   ]
  }
 ],
 "metadata": {
  "interpreter": {
   "hash": "552d8f854a550783d347207e80445871d6743b3b728b4e6a6e53a767838deb39"
  },
  "kernelspec": {
   "display_name": "Python 3.10.5 ('r-place-venv': venv)",
   "language": "python",
   "name": "python3"
  },
  "language_info": {
   "codemirror_mode": {
    "name": "ipython",
    "version": 3
   },
   "file_extension": ".py",
   "mimetype": "text/x-python",
   "name": "python",
   "nbconvert_exporter": "python",
   "pygments_lexer": "ipython3",
   "version": "3.10.5"
  },
  "orig_nbformat": 4
 },
 "nbformat": 4,
 "nbformat_minor": 2
}
